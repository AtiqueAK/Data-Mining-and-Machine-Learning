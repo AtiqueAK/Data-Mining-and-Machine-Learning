{
 "cells": [
  {
   "cell_type": "code",
   "execution_count": 1,
   "id": "376ae9ef",
   "metadata": {},
   "outputs": [],
   "source": [
    "import sys\n",
    "import sklearn\n",
    "import numpy as np\n",
    "import os\n",
    "import pandas as pd\n",
    "\n",
    "np.random.seed(42)\n",
    "\n",
    "%matplotlib inline\n",
    "import matplotlib as mpl\n",
    "import matplotlib.pyplot as plt\n",
    "\n",
    "import warnings\n",
    "warnings.filterwarnings(\"ignore\")"
   ]
  },
  {
   "cell_type": "code",
   "execution_count": 2,
   "id": "03ba2f85",
   "metadata": {},
   "outputs": [],
   "source": [
    "# Importing training data\n",
    "x_train = pd.read_csv(\"subset_2.csv\") # Subset of best features\n",
    "y_train = pd.read_csv(\"y_train_all.csv\")\n",
    "\n",
    "# Converting data to matrix\n",
    "X = x_train.to_numpy()\n",
    "y = y_train.to_numpy()"
   ]
  },
  {
   "cell_type": "code",
   "execution_count": 3,
   "id": "ee0e00bf",
   "metadata": {},
   "outputs": [
    {
     "name": "stdout",
     "output_type": "stream",
     "text": [
      "Training data shape: 8721\n",
      "Test data shape: 969\n"
     ]
    }
   ],
   "source": [
    "from sklearn.model_selection import KFold\n",
    "from sklearn.metrics import accuracy_score\n",
    "\n",
    "# Split the data into train and test via 10-fold cross validation\n",
    "kf = KFold(n_splits=10)\n",
    "for train_index, test_index in kf.split(X):\n",
    "    X_train, X_test = X[train_index], X[test_index]\n",
    "    y_train, y_test = y[train_index], y[test_index]\n",
    "    \n",
    "print(\"Training data shape: \" + str(len(X_train)))\n",
    "print(\"Test data shape: \" + str(len(X_test)))"
   ]
  },
  {
   "cell_type": "code",
   "execution_count": 4,
   "id": "4b3383d6",
   "metadata": {},
   "outputs": [
    {
     "data": {
      "text/html": [
       "<style>#sk-container-id-1 {color: black;}#sk-container-id-1 pre{padding: 0;}#sk-container-id-1 div.sk-toggleable {background-color: white;}#sk-container-id-1 label.sk-toggleable__label {cursor: pointer;display: block;width: 100%;margin-bottom: 0;padding: 0.3em;box-sizing: border-box;text-align: center;}#sk-container-id-1 label.sk-toggleable__label-arrow:before {content: \"▸\";float: left;margin-right: 0.25em;color: #696969;}#sk-container-id-1 label.sk-toggleable__label-arrow:hover:before {color: black;}#sk-container-id-1 div.sk-estimator:hover label.sk-toggleable__label-arrow:before {color: black;}#sk-container-id-1 div.sk-toggleable__content {max-height: 0;max-width: 0;overflow: hidden;text-align: left;background-color: #f0f8ff;}#sk-container-id-1 div.sk-toggleable__content pre {margin: 0.2em;color: black;border-radius: 0.25em;background-color: #f0f8ff;}#sk-container-id-1 input.sk-toggleable__control:checked~div.sk-toggleable__content {max-height: 200px;max-width: 100%;overflow: auto;}#sk-container-id-1 input.sk-toggleable__control:checked~label.sk-toggleable__label-arrow:before {content: \"▾\";}#sk-container-id-1 div.sk-estimator input.sk-toggleable__control:checked~label.sk-toggleable__label {background-color: #d4ebff;}#sk-container-id-1 div.sk-label input.sk-toggleable__control:checked~label.sk-toggleable__label {background-color: #d4ebff;}#sk-container-id-1 input.sk-hidden--visually {border: 0;clip: rect(1px 1px 1px 1px);clip: rect(1px, 1px, 1px, 1px);height: 1px;margin: -1px;overflow: hidden;padding: 0;position: absolute;width: 1px;}#sk-container-id-1 div.sk-estimator {font-family: monospace;background-color: #f0f8ff;border: 1px dotted black;border-radius: 0.25em;box-sizing: border-box;margin-bottom: 0.5em;}#sk-container-id-1 div.sk-estimator:hover {background-color: #d4ebff;}#sk-container-id-1 div.sk-parallel-item::after {content: \"\";width: 100%;border-bottom: 1px solid gray;flex-grow: 1;}#sk-container-id-1 div.sk-label:hover label.sk-toggleable__label {background-color: #d4ebff;}#sk-container-id-1 div.sk-serial::before {content: \"\";position: absolute;border-left: 1px solid gray;box-sizing: border-box;top: 0;bottom: 0;left: 50%;z-index: 0;}#sk-container-id-1 div.sk-serial {display: flex;flex-direction: column;align-items: center;background-color: white;padding-right: 0.2em;padding-left: 0.2em;position: relative;}#sk-container-id-1 div.sk-item {position: relative;z-index: 1;}#sk-container-id-1 div.sk-parallel {display: flex;align-items: stretch;justify-content: center;background-color: white;position: relative;}#sk-container-id-1 div.sk-item::before, #sk-container-id-1 div.sk-parallel-item::before {content: \"\";position: absolute;border-left: 1px solid gray;box-sizing: border-box;top: 0;bottom: 0;left: 50%;z-index: -1;}#sk-container-id-1 div.sk-parallel-item {display: flex;flex-direction: column;z-index: 1;position: relative;background-color: white;}#sk-container-id-1 div.sk-parallel-item:first-child::after {align-self: flex-end;width: 50%;}#sk-container-id-1 div.sk-parallel-item:last-child::after {align-self: flex-start;width: 50%;}#sk-container-id-1 div.sk-parallel-item:only-child::after {width: 0;}#sk-container-id-1 div.sk-dashed-wrapped {border: 1px dashed gray;margin: 0 0.4em 0.5em 0.4em;box-sizing: border-box;padding-bottom: 0.4em;background-color: white;}#sk-container-id-1 div.sk-label label {font-family: monospace;font-weight: bold;display: inline-block;line-height: 1.2em;}#sk-container-id-1 div.sk-label-container {text-align: center;}#sk-container-id-1 div.sk-container {/* jupyter's `normalize.less` sets `[hidden] { display: none; }` but bootstrap.min.css set `[hidden] { display: none !important; }` so we also need the `!important` here to be able to override the default hidden behavior on the sphinx rendered scikit-learn.org. See: https://github.com/scikit-learn/scikit-learn/issues/21755 */display: inline-block !important;position: relative;}#sk-container-id-1 div.sk-text-repr-fallback {display: none;}</style><div id=\"sk-container-id-1\" class=\"sk-top-container\"><div class=\"sk-text-repr-fallback\"><pre>LogisticRegression(max_iter=400, random_state=42)</pre><b>In a Jupyter environment, please rerun this cell to show the HTML representation or trust the notebook. <br />On GitHub, the HTML representation is unable to render, please try loading this page with nbviewer.org.</b></div><div class=\"sk-container\" hidden><div class=\"sk-item\"><div class=\"sk-estimator sk-toggleable\"><input class=\"sk-toggleable__control sk-hidden--visually\" id=\"sk-estimator-id-1\" type=\"checkbox\" checked><label for=\"sk-estimator-id-1\" class=\"sk-toggleable__label sk-toggleable__label-arrow\">LogisticRegression</label><div class=\"sk-toggleable__content\"><pre>LogisticRegression(max_iter=400, random_state=42)</pre></div></div></div></div></div>"
      ],
      "text/plain": [
       "LogisticRegression(max_iter=400, random_state=42)"
      ]
     },
     "execution_count": 4,
     "metadata": {},
     "output_type": "execute_result"
    }
   ],
   "source": [
    "from sklearn.linear_model import LogisticRegression\n",
    "\n",
    "y_train = y_train.flatten()\n",
    "y_train = (y_train == 7).astype(np.int64)\n",
    "\n",
    "log_reg = LogisticRegression(solver=\"lbfgs\", max_iter=400, random_state=42)\n",
    "log_reg.fit(X_train, y_train)"
   ]
  },
  {
   "cell_type": "code",
   "execution_count": 5,
   "id": "980dedd2",
   "metadata": {},
   "outputs": [
    {
     "name": "stdout",
     "output_type": "stream",
     "text": [
      "Accuracy:  0.0\n"
     ]
    }
   ],
   "source": [
    "y_pred = log_reg.predict(X_test)\n",
    "print(\"Accuracy: \", accuracy_score(y_test, y_pred))"
   ]
  },
  {
   "cell_type": "code",
   "execution_count": 6,
   "id": "6223406b",
   "metadata": {},
   "outputs": [],
   "source": [
    "x_train = pd.read_csv(\"subset_2.csv\")\n",
    "y_train = pd.read_csv(\"y_train_all.csv\")\n",
    "\n",
    "X = x_train.to_numpy()\n",
    "y = y_train.to_numpy()\n",
    "\n",
    "x_test = pd.read_csv(\"test_subset_2.csv\") \n",
    "y_test = pd.read_csv(\"y_test_all.csv\")\n",
    "\n",
    "X_test = x_test.to_numpy()\n",
    "y_test = y_test.to_numpy()"
   ]
  },
  {
   "cell_type": "code",
   "execution_count": 7,
   "id": "68e7241f",
   "metadata": {},
   "outputs": [
    {
     "data": {
      "text/html": [
       "<style>#sk-container-id-2 {color: black;}#sk-container-id-2 pre{padding: 0;}#sk-container-id-2 div.sk-toggleable {background-color: white;}#sk-container-id-2 label.sk-toggleable__label {cursor: pointer;display: block;width: 100%;margin-bottom: 0;padding: 0.3em;box-sizing: border-box;text-align: center;}#sk-container-id-2 label.sk-toggleable__label-arrow:before {content: \"▸\";float: left;margin-right: 0.25em;color: #696969;}#sk-container-id-2 label.sk-toggleable__label-arrow:hover:before {color: black;}#sk-container-id-2 div.sk-estimator:hover label.sk-toggleable__label-arrow:before {color: black;}#sk-container-id-2 div.sk-toggleable__content {max-height: 0;max-width: 0;overflow: hidden;text-align: left;background-color: #f0f8ff;}#sk-container-id-2 div.sk-toggleable__content pre {margin: 0.2em;color: black;border-radius: 0.25em;background-color: #f0f8ff;}#sk-container-id-2 input.sk-toggleable__control:checked~div.sk-toggleable__content {max-height: 200px;max-width: 100%;overflow: auto;}#sk-container-id-2 input.sk-toggleable__control:checked~label.sk-toggleable__label-arrow:before {content: \"▾\";}#sk-container-id-2 div.sk-estimator input.sk-toggleable__control:checked~label.sk-toggleable__label {background-color: #d4ebff;}#sk-container-id-2 div.sk-label input.sk-toggleable__control:checked~label.sk-toggleable__label {background-color: #d4ebff;}#sk-container-id-2 input.sk-hidden--visually {border: 0;clip: rect(1px 1px 1px 1px);clip: rect(1px, 1px, 1px, 1px);height: 1px;margin: -1px;overflow: hidden;padding: 0;position: absolute;width: 1px;}#sk-container-id-2 div.sk-estimator {font-family: monospace;background-color: #f0f8ff;border: 1px dotted black;border-radius: 0.25em;box-sizing: border-box;margin-bottom: 0.5em;}#sk-container-id-2 div.sk-estimator:hover {background-color: #d4ebff;}#sk-container-id-2 div.sk-parallel-item::after {content: \"\";width: 100%;border-bottom: 1px solid gray;flex-grow: 1;}#sk-container-id-2 div.sk-label:hover label.sk-toggleable__label {background-color: #d4ebff;}#sk-container-id-2 div.sk-serial::before {content: \"\";position: absolute;border-left: 1px solid gray;box-sizing: border-box;top: 0;bottom: 0;left: 50%;z-index: 0;}#sk-container-id-2 div.sk-serial {display: flex;flex-direction: column;align-items: center;background-color: white;padding-right: 0.2em;padding-left: 0.2em;position: relative;}#sk-container-id-2 div.sk-item {position: relative;z-index: 1;}#sk-container-id-2 div.sk-parallel {display: flex;align-items: stretch;justify-content: center;background-color: white;position: relative;}#sk-container-id-2 div.sk-item::before, #sk-container-id-2 div.sk-parallel-item::before {content: \"\";position: absolute;border-left: 1px solid gray;box-sizing: border-box;top: 0;bottom: 0;left: 50%;z-index: -1;}#sk-container-id-2 div.sk-parallel-item {display: flex;flex-direction: column;z-index: 1;position: relative;background-color: white;}#sk-container-id-2 div.sk-parallel-item:first-child::after {align-self: flex-end;width: 50%;}#sk-container-id-2 div.sk-parallel-item:last-child::after {align-self: flex-start;width: 50%;}#sk-container-id-2 div.sk-parallel-item:only-child::after {width: 0;}#sk-container-id-2 div.sk-dashed-wrapped {border: 1px dashed gray;margin: 0 0.4em 0.5em 0.4em;box-sizing: border-box;padding-bottom: 0.4em;background-color: white;}#sk-container-id-2 div.sk-label label {font-family: monospace;font-weight: bold;display: inline-block;line-height: 1.2em;}#sk-container-id-2 div.sk-label-container {text-align: center;}#sk-container-id-2 div.sk-container {/* jupyter's `normalize.less` sets `[hidden] { display: none; }` but bootstrap.min.css set `[hidden] { display: none !important; }` so we also need the `!important` here to be able to override the default hidden behavior on the sphinx rendered scikit-learn.org. See: https://github.com/scikit-learn/scikit-learn/issues/21755 */display: inline-block !important;position: relative;}#sk-container-id-2 div.sk-text-repr-fallback {display: none;}</style><div id=\"sk-container-id-2\" class=\"sk-top-container\"><div class=\"sk-text-repr-fallback\"><pre>LogisticRegression(max_iter=400, random_state=42)</pre><b>In a Jupyter environment, please rerun this cell to show the HTML representation or trust the notebook. <br />On GitHub, the HTML representation is unable to render, please try loading this page with nbviewer.org.</b></div><div class=\"sk-container\" hidden><div class=\"sk-item\"><div class=\"sk-estimator sk-toggleable\"><input class=\"sk-toggleable__control sk-hidden--visually\" id=\"sk-estimator-id-2\" type=\"checkbox\" checked><label for=\"sk-estimator-id-2\" class=\"sk-toggleable__label sk-toggleable__label-arrow\">LogisticRegression</label><div class=\"sk-toggleable__content\"><pre>LogisticRegression(max_iter=400, random_state=42)</pre></div></div></div></div></div>"
      ],
      "text/plain": [
       "LogisticRegression(max_iter=400, random_state=42)"
      ]
     },
     "execution_count": 7,
     "metadata": {},
     "output_type": "execute_result"
    }
   ],
   "source": [
    "y = y.flatten()\n",
    "y = (y == 7).astype(np.int64)\n",
    "\n",
    "log_reg = LogisticRegression(solver=\"lbfgs\", max_iter=400, random_state=42)\n",
    "log_reg.fit(X, y)"
   ]
  },
  {
   "cell_type": "code",
   "execution_count": 8,
   "id": "08a81094",
   "metadata": {},
   "outputs": [
    {
     "name": "stdout",
     "output_type": "stream",
     "text": [
      "Accuracy:  0.019417475728155338\n"
     ]
    }
   ],
   "source": [
    "y_pred = log_reg.predict(X_test)\n",
    "print(\"Accuracy: \", accuracy_score(y_test, y_pred))"
   ]
  },
  {
   "cell_type": "markdown",
   "id": "8d3d22a1",
   "metadata": {},
   "source": [
    "# ANN"
   ]
  },
  {
   "cell_type": "code",
   "execution_count": 9,
   "id": "77818bf7",
   "metadata": {},
   "outputs": [],
   "source": [
    "import cv2"
   ]
  },
  {
   "cell_type": "code",
   "execution_count": 10,
   "id": "bb537a6e",
   "metadata": {},
   "outputs": [],
   "source": [
    "# Read the training data CSV file\n",
    "data_x_train = pd.read_csv(\"x_train_all.csv\")\n",
    "data_y_train = pd.read_csv(\"y_train_all.csv\")\n",
    "data_x_test = pd.read_csv(\"x_test_all.csv\")\n",
    "data_y_test = pd.read_csv(\"y_test_all.csv\")"
   ]
  },
  {
   "cell_type": "code",
   "execution_count": 11,
   "id": "1f74bcf2",
   "metadata": {},
   "outputs": [],
   "source": [
    "data_x_train = data_x_train.to_numpy()\n",
    "data_x_test = data_x_test.to_numpy()\n",
    "\n",
    "X_train = data_x_train.astype('float') / 255\n",
    "X_test = data_x_test.astype('float') / 255"
   ]
  },
  {
   "cell_type": "code",
   "execution_count": 12,
   "id": "4a80f06f",
   "metadata": {},
   "outputs": [],
   "source": [
    "data_sm_x_train = np.apply_along_axis(\n",
    "    func1d=lambda item: cv2.resize(item.reshape(48, 48), dsize=(30, 30)),\n",
    "    axis=1, arr=X_train).reshape(-1, 30*30)\n",
    "\n",
    "data_sm_x_test = np.apply_along_axis(\n",
    "    func1d=lambda item: cv2.resize(item.reshape(48, 48), dsize=(30, 30)),\n",
    "    axis=1, arr=X_test).reshape(-1, 30*30)"
   ]
  },
  {
   "cell_type": "code",
   "execution_count": 13,
   "id": "5857eb81",
   "metadata": {},
   "outputs": [
    {
     "name": "stdout",
     "output_type": "stream",
     "text": [
      "WARNING:tensorflow:From C:\\Users\\kondv\\anaconda3\\Lib\\site-packages\\keras\\src\\losses.py:2976: The name tf.losses.sparse_softmax_cross_entropy is deprecated. Please use tf.compat.v1.losses.sparse_softmax_cross_entropy instead.\n",
      "\n",
      "WARNING:tensorflow:From C:\\Users\\kondv\\anaconda3\\Lib\\site-packages\\keras\\src\\backend.py:873: The name tf.get_default_graph is deprecated. Please use tf.compat.v1.get_default_graph instead.\n",
      "\n"
     ]
    }
   ],
   "source": [
    "import tensorflow\n",
    "from tensorflow import keras\n",
    "from tensorflow.keras import Sequential\n",
    "from tensorflow.keras.layers import Dense,Flatten\n",
    "\n",
    "model = Sequential()\n",
    "model.add(Flatten(input_shape=(900,)))\n",
    "model.add(Dense(900,activation='relu'))\n",
    "model.add(Dense(600,activation='relu'))\n",
    "model.add(Dense(300,activation='relu'))\n",
    "model.add(Dense(10,activation='softmax'))"
   ]
  },
  {
   "cell_type": "code",
   "execution_count": 14,
   "id": "a77fa4e9",
   "metadata": {},
   "outputs": [
    {
     "name": "stdout",
     "output_type": "stream",
     "text": [
      "Model: \"sequential\"\n",
      "_________________________________________________________________\n",
      " Layer (type)                Output Shape              Param #   \n",
      "=================================================================\n",
      " flatten (Flatten)           (None, 900)               0         \n",
      "                                                                 \n",
      " dense (Dense)               (None, 900)               810900    \n",
      "                                                                 \n",
      " dense_1 (Dense)             (None, 600)               540600    \n",
      "                                                                 \n",
      " dense_2 (Dense)             (None, 300)               180300    \n",
      "                                                                 \n",
      " dense_3 (Dense)             (None, 10)                3010      \n",
      "                                                                 \n",
      "=================================================================\n",
      "Total params: 1534810 (5.85 MB)\n",
      "Trainable params: 1534810 (5.85 MB)\n",
      "Non-trainable params: 0 (0.00 Byte)\n",
      "_________________________________________________________________\n"
     ]
    }
   ],
   "source": [
    "model.summary()"
   ]
  },
  {
   "cell_type": "code",
   "execution_count": 15,
   "id": "b38ab7ca",
   "metadata": {},
   "outputs": [
    {
     "name": "stdout",
     "output_type": "stream",
     "text": [
      "WARNING:tensorflow:From C:\\Users\\kondv\\anaconda3\\Lib\\site-packages\\keras\\src\\optimizers\\__init__.py:309: The name tf.train.Optimizer is deprecated. Please use tf.compat.v1.train.Optimizer instead.\n",
      "\n"
     ]
    }
   ],
   "source": [
    "model.compile(loss='sparse_categorical_crossentropy',optimizer='Adam',metrics=['accuracy'])"
   ]
  },
  {
   "cell_type": "code",
   "execution_count": 16,
   "id": "93c7ff6a",
   "metadata": {},
   "outputs": [
    {
     "name": "stdout",
     "output_type": "stream",
     "text": [
      "Epoch 1/50\n",
      "WARNING:tensorflow:From C:\\Users\\kondv\\anaconda3\\Lib\\site-packages\\keras\\src\\utils\\tf_utils.py:492: The name tf.ragged.RaggedTensorValue is deprecated. Please use tf.compat.v1.ragged.RaggedTensorValue instead.\n",
      "\n",
      "WARNING:tensorflow:From C:\\Users\\kondv\\anaconda3\\Lib\\site-packages\\keras\\src\\engine\\base_layer_utils.py:384: The name tf.executing_eagerly_outside_functions is deprecated. Please use tf.compat.v1.executing_eagerly_outside_functions instead.\n",
      "\n",
      "243/243 [==============================] - 4s 14ms/step - loss: 1.2352 - accuracy: 0.4884 - val_loss: 10.4061 - val_accuracy: 0.1342\n",
      "Epoch 2/50\n",
      "243/243 [==============================] - 3s 14ms/step - loss: 0.6967 - accuracy: 0.7501 - val_loss: 14.0521 - val_accuracy: 0.1538\n",
      "Epoch 3/50\n",
      "243/243 [==============================] - 3s 14ms/step - loss: 0.4887 - accuracy: 0.8287 - val_loss: 16.9241 - val_accuracy: 0.1336\n",
      "Epoch 4/50\n",
      "243/243 [==============================] - 4s 15ms/step - loss: 0.4353 - accuracy: 0.8431 - val_loss: 18.0557 - val_accuracy: 0.1491\n",
      "Epoch 5/50\n",
      "243/243 [==============================] - 4s 15ms/step - loss: 0.3940 - accuracy: 0.8553 - val_loss: 14.2833 - val_accuracy: 0.1512\n",
      "Epoch 6/50\n",
      "243/243 [==============================] - 4s 17ms/step - loss: 0.2960 - accuracy: 0.8956 - val_loss: 15.3400 - val_accuracy: 0.1533\n",
      "Epoch 7/50\n",
      "243/243 [==============================] - 4s 15ms/step - loss: 0.2590 - accuracy: 0.9060 - val_loss: 17.9575 - val_accuracy: 0.1548\n",
      "Epoch 8/50\n",
      "243/243 [==============================] - 3s 14ms/step - loss: 0.2376 - accuracy: 0.9138 - val_loss: 18.7263 - val_accuracy: 0.1460\n",
      "Epoch 9/50\n",
      "243/243 [==============================] - 4s 14ms/step - loss: 0.2643 - accuracy: 0.9042 - val_loss: 19.1672 - val_accuracy: 0.1398\n",
      "Epoch 10/50\n",
      "243/243 [==============================] - 4s 16ms/step - loss: 0.2046 - accuracy: 0.9271 - val_loss: 22.9886 - val_accuracy: 0.1517\n",
      "Epoch 11/50\n",
      "243/243 [==============================] - 4s 14ms/step - loss: 0.1898 - accuracy: 0.9320 - val_loss: 19.4866 - val_accuracy: 0.1615\n",
      "Epoch 12/50\n",
      "243/243 [==============================] - 3s 14ms/step - loss: 0.1847 - accuracy: 0.9328 - val_loss: 17.6256 - val_accuracy: 0.1579\n",
      "Epoch 13/50\n",
      "243/243 [==============================] - 3s 14ms/step - loss: 0.2027 - accuracy: 0.9276 - val_loss: 23.4995 - val_accuracy: 0.1326\n",
      "Epoch 14/50\n",
      "243/243 [==============================] - 4s 15ms/step - loss: 0.1492 - accuracy: 0.9452 - val_loss: 20.3012 - val_accuracy: 0.1584\n",
      "Epoch 15/50\n",
      "243/243 [==============================] - 3s 13ms/step - loss: 0.1600 - accuracy: 0.9405 - val_loss: 20.4406 - val_accuracy: 0.1424\n",
      "Epoch 16/50\n",
      "243/243 [==============================] - 3s 14ms/step - loss: 0.1508 - accuracy: 0.9487 - val_loss: 21.5911 - val_accuracy: 0.1507\n",
      "Epoch 17/50\n",
      "243/243 [==============================] - 3s 14ms/step - loss: 0.1687 - accuracy: 0.9376 - val_loss: 24.1904 - val_accuracy: 0.1455\n",
      "Epoch 18/50\n",
      "243/243 [==============================] - 4s 15ms/step - loss: 0.1524 - accuracy: 0.9465 - val_loss: 20.2985 - val_accuracy: 0.1533\n",
      "Epoch 19/50\n",
      "243/243 [==============================] - 4s 16ms/step - loss: 0.1343 - accuracy: 0.9505 - val_loss: 17.3943 - val_accuracy: 0.1527\n",
      "Epoch 20/50\n",
      "243/243 [==============================] - 3s 14ms/step - loss: 0.1018 - accuracy: 0.9616 - val_loss: 28.1107 - val_accuracy: 0.1543\n",
      "Epoch 21/50\n",
      "243/243 [==============================] - 3s 13ms/step - loss: 0.1207 - accuracy: 0.9573 - val_loss: 22.9310 - val_accuracy: 0.1373\n",
      "Epoch 22/50\n",
      "243/243 [==============================] - 3s 14ms/step - loss: 0.1254 - accuracy: 0.9514 - val_loss: 24.3645 - val_accuracy: 0.1553\n",
      "Epoch 23/50\n",
      "243/243 [==============================] - 3s 14ms/step - loss: 0.1005 - accuracy: 0.9627 - val_loss: 24.6985 - val_accuracy: 0.1321\n",
      "Epoch 24/50\n",
      "243/243 [==============================] - 3s 14ms/step - loss: 0.1285 - accuracy: 0.9537 - val_loss: 20.5918 - val_accuracy: 0.1600\n",
      "Epoch 25/50\n",
      "243/243 [==============================] - 4s 15ms/step - loss: 0.1180 - accuracy: 0.9579 - val_loss: 24.8408 - val_accuracy: 0.1533\n",
      "Epoch 26/50\n",
      "243/243 [==============================] - 3s 14ms/step - loss: 0.1106 - accuracy: 0.9599 - val_loss: 23.1346 - val_accuracy: 0.1502\n",
      "Epoch 27/50\n",
      "243/243 [==============================] - 3s 14ms/step - loss: 0.0963 - accuracy: 0.9666 - val_loss: 23.0060 - val_accuracy: 0.1553\n",
      "Epoch 28/50\n",
      "243/243 [==============================] - 4s 15ms/step - loss: 0.1125 - accuracy: 0.9609 - val_loss: 22.1503 - val_accuracy: 0.1569\n",
      "Epoch 29/50\n",
      "243/243 [==============================] - 4s 15ms/step - loss: 0.0879 - accuracy: 0.9696 - val_loss: 28.8832 - val_accuracy: 0.1507\n",
      "Epoch 30/50\n",
      "243/243 [==============================] - 4s 17ms/step - loss: 0.0598 - accuracy: 0.9783 - val_loss: 25.9546 - val_accuracy: 0.1600\n",
      "Epoch 31/50\n",
      "243/243 [==============================] - 4s 16ms/step - loss: 0.0706 - accuracy: 0.9755 - val_loss: 26.4528 - val_accuracy: 0.1527\n",
      "Epoch 32/50\n",
      "243/243 [==============================] - 3s 14ms/step - loss: 0.0806 - accuracy: 0.9711 - val_loss: 31.6115 - val_accuracy: 0.1218\n",
      "Epoch 33/50\n",
      "243/243 [==============================] - 3s 13ms/step - loss: 0.1178 - accuracy: 0.9594 - val_loss: 26.4482 - val_accuracy: 0.1336\n",
      "Epoch 34/50\n",
      "243/243 [==============================] - 3s 13ms/step - loss: 0.0754 - accuracy: 0.9723 - val_loss: 25.3379 - val_accuracy: 0.1388\n",
      "Epoch 35/50\n",
      "243/243 [==============================] - 3s 14ms/step - loss: 0.0600 - accuracy: 0.9792 - val_loss: 25.3142 - val_accuracy: 0.1553\n",
      "Epoch 36/50\n",
      "243/243 [==============================] - 3s 14ms/step - loss: 0.1195 - accuracy: 0.9577 - val_loss: 27.0957 - val_accuracy: 0.1409\n",
      "Epoch 37/50\n",
      "243/243 [==============================] - 4s 17ms/step - loss: 0.0607 - accuracy: 0.9778 - val_loss: 30.6559 - val_accuracy: 0.1476\n",
      "Epoch 38/50\n",
      "243/243 [==============================] - 4s 15ms/step - loss: 0.0647 - accuracy: 0.9778 - val_loss: 23.8074 - val_accuracy: 0.1259\n",
      "Epoch 39/50\n",
      "243/243 [==============================] - 4s 17ms/step - loss: 0.0596 - accuracy: 0.9777 - val_loss: 29.5123 - val_accuracy: 0.1409\n",
      "Epoch 40/50\n",
      "243/243 [==============================] - 4s 17ms/step - loss: 0.0632 - accuracy: 0.9785 - val_loss: 27.6620 - val_accuracy: 0.1574\n",
      "Epoch 41/50\n",
      "243/243 [==============================] - 4s 16ms/step - loss: 0.1161 - accuracy: 0.9563 - val_loss: 32.6762 - val_accuracy: 0.1434\n",
      "Epoch 42/50\n",
      "243/243 [==============================] - 4s 15ms/step - loss: 0.0302 - accuracy: 0.9905 - val_loss: 31.7816 - val_accuracy: 0.1605\n",
      "Epoch 43/50\n",
      "243/243 [==============================] - 4s 18ms/step - loss: 0.0594 - accuracy: 0.9779 - val_loss: 25.6225 - val_accuracy: 0.1538\n",
      "Epoch 44/50\n",
      "243/243 [==============================] - 4s 18ms/step - loss: 0.0754 - accuracy: 0.9746 - val_loss: 30.0648 - val_accuracy: 0.1553\n",
      "Epoch 45/50\n",
      "243/243 [==============================] - 4s 17ms/step - loss: 0.0517 - accuracy: 0.9812 - val_loss: 36.9786 - val_accuracy: 0.1378\n",
      "Epoch 46/50\n",
      "243/243 [==============================] - 4s 16ms/step - loss: 0.0498 - accuracy: 0.9831 - val_loss: 39.4188 - val_accuracy: 0.1347\n",
      "Epoch 47/50\n",
      "243/243 [==============================] - 4s 16ms/step - loss: 0.0680 - accuracy: 0.9754 - val_loss: 28.0266 - val_accuracy: 0.1414\n",
      "Epoch 48/50\n",
      "243/243 [==============================] - 4s 17ms/step - loss: 0.0545 - accuracy: 0.9808 - val_loss: 33.9574 - val_accuracy: 0.1507\n",
      "Epoch 49/50\n",
      "243/243 [==============================] - 4s 15ms/step - loss: 0.0644 - accuracy: 0.9785 - val_loss: 33.8129 - val_accuracy: 0.1465\n",
      "Epoch 50/50\n",
      "243/243 [==============================] - 3s 14ms/step - loss: 0.0338 - accuracy: 0.9885 - val_loss: 38.7474 - val_accuracy: 0.1414\n"
     ]
    }
   ],
   "source": [
    "history = model.fit(data_sm_x_train,data_y_train,epochs=50,validation_split=0.2)"
   ]
  },
  {
   "cell_type": "code",
   "execution_count": 17,
   "id": "d11d0425-09b6-4cce-a24a-17f2d4695093",
   "metadata": {},
   "outputs": [
    {
     "name": "stdout",
     "output_type": "stream",
     "text": [
      "97/97 [==============================] - 0s 2ms/step\n"
     ]
    }
   ],
   "source": [
    "y_prob = model.predict(data_sm_x_test)"
   ]
  },
  {
   "cell_type": "code",
   "execution_count": 18,
   "id": "8c61cc0f",
   "metadata": {},
   "outputs": [],
   "source": [
    "y_pred = y_prob.argmax(axis=1)"
   ]
  },
  {
   "cell_type": "code",
   "execution_count": 19,
   "id": "7863158d",
   "metadata": {},
   "outputs": [
    {
     "data": {
      "text/plain": [
       "array([1, 4, 3, ..., 3, 1, 1], dtype=int64)"
      ]
     },
     "execution_count": 19,
     "metadata": {},
     "output_type": "execute_result"
    }
   ],
   "source": [
    "y_pred"
   ]
  },
  {
   "cell_type": "code",
   "execution_count": 20,
   "id": "22291bff",
   "metadata": {},
   "outputs": [
    {
     "data": {
      "text/plain": [
       "0.7381877022653721"
      ]
     },
     "execution_count": 20,
     "metadata": {},
     "output_type": "execute_result"
    }
   ],
   "source": [
    "from sklearn.metrics import accuracy_score\n",
    "accuracy_score(data_y_test,y_pred)"
   ]
  },
  {
   "cell_type": "code",
   "execution_count": 21,
   "id": "6ab7d16a",
   "metadata": {
    "scrolled": true
   },
   "outputs": [
    {
     "data": {
      "image/png": "[encoded data removed]",
      "text/plain": [
       "<Figure size 800x500 with 1 Axes>"
      ]
     },
     "metadata": {},
     "output_type": "display_data"
    }
   ],
   "source": [
    "pd.DataFrame(history.history).plot(figsize=(8, 5))\n",
    "plt.grid(True)\n",
    "plt.gca().set_ylim(0, 1)\n",
    "plt.show()"
   ]
  },
  {
   "cell_type": "code",
   "execution_count": 22,
   "id": "dd61fcdd",
   "metadata": {},
   "outputs": [
    {
     "name": "stdout",
     "output_type": "stream",
     "text": [
      "1/1 [==============================] - 0s 23ms/step\n"
     ]
    }
   ],
   "source": [
    "# Assuming data_sm_x_test[10] is a single sample\n",
    "sample = data_sm_x_test[100]\n",
    "\n",
    "# Add an extra dimension to make it a batch of one sample\n",
    "# This can be done using np.expand_dims or reshaping\n",
    "sample = np.expand_dims(sample, axis=0)\n",
    "\n",
    "# Now use model.predict\n",
    "prediction = model.predict(sample)\n",
    "\n",
    "# Get the class with the highest probability\n",
    "predicted_class = prediction.argmax(axis=1)"
   ]
  },
  {
   "cell_type": "code",
   "execution_count": 23,
   "id": "cfbb433b",
   "metadata": {},
   "outputs": [
    {
     "data": {
      "text/plain": [
       "array([1, 4, 3, ..., 3, 1, 1], dtype=int64)"
      ]
     },
     "execution_count": 23,
     "metadata": {},
     "output_type": "execute_result"
    }
   ],
   "source": [
    "y_pred"
   ]
  },
  {
   "cell_type": "code",
   "execution_count": 24,
   "id": "924cb624",
   "metadata": {},
   "outputs": [
    {
     "data": {
      "text/plain": [
       "array([1], dtype=int64)"
      ]
     },
     "execution_count": 24,
     "metadata": {},
     "output_type": "execute_result"
    }
   ],
   "source": [
    "predicted_class"
   ]
  },
  {
   "cell_type": "code",
   "execution_count": 25,
   "id": "7c971117",
   "metadata": {},
   "outputs": [
    {
     "data": {
      "image/png": "[encoded data removed]",
      "text/plain": [
       "<Figure size 640x480 with 1 Axes>"
      ]
     },
     "metadata": {},
     "output_type": "display_data"
    }
   ],
   "source": [
    "# Extract the eleventh row as an array\n",
    "instance_to_plot = data_x_test[100]\n",
    "\n",
    "# Reshape the array as 48x48 array\n",
    "image_data = instance_to_plot.reshape(48, 48)\n",
    "\n",
    "# Plot the image\n",
    "plt.imshow(image_data)\n",
    "plt.show()"
   ]
  },
  {
   "cell_type": "code",
   "execution_count": 26,
   "id": "2c84d954",
   "metadata": {
    "scrolled": true
   },
   "outputs": [
    {
     "data": {
      "text/plain": [
       "'\\nA. The techniques used for performing hyperparameter tuning in a systematic way are :\\n\\n1) Random Search:\\n        \\nRandom search randomly selects combinations of hyperparameter values.\\nThis method is less exhaustive than grid search and can be more efficient,\\nespecially when some hyperparameters are much more important than others.\\n\\n2) Bayesian Optimization:\\n        \\nBayesian optimization builds a probabilistic model of the function mapping from hyperparameter values \\nto the objective evaluated on a validation set.\\nIt uses the model to select the most promising hyperparameters to evaluate in the true objective function.\\nThis approach is more sophisticated and can be more effective than grid or random search, especially in high-dimensional spaces.\\n\\n\\n'"
      ]
     },
     "execution_count": 26,
     "metadata": {},
     "output_type": "execute_result"
    }
   ],
   "source": [
    "# Q. What techniques can be used for performing hyperparameter tuning in a systematic way? \n",
    "\n",
    "'''\n",
    "A. The techniques used for performing hyperparameter tuning in a systematic way are :\n",
    "\n",
    "1) Random Search:\n",
    "        \n",
    "Random search randomly selects combinations of hyperparameter values.\n",
    "This method is less exhaustive than grid search and can be more efficient,\n",
    "especially when some hyperparameters are much more important than others.\n",
    "\n",
    "2) Bayesian Optimization:\n",
    "        \n",
    "Bayesian optimization builds a probabilistic model of the function mapping from hyperparameter values \n",
    "to the objective evaluated on a validation set.\n",
    "It uses the model to select the most promising hyperparameters to evaluate in the true objective function.\n",
    "This approach is more sophisticated and can be more effective than grid or random search, especially in high-dimensional spaces.\n",
    "\n",
    "\n",
    "''' "
   ]
  },
  {
   "cell_type": "markdown",
   "id": "7bd2415d",
   "metadata": {},
   "source": [
    "# CNN"
   ]
  },
  {
   "cell_type": "code",
   "execution_count": 27,
   "id": "add62320",
   "metadata": {},
   "outputs": [],
   "source": [
    "# Read the training data CSV file\n",
    "data_x_train = pd.read_csv(\"x_train_all.csv\")\n",
    "data_y_train = pd.read_csv(\"y_train_all.csv\")\n",
    "data_x_test = pd.read_csv(\"x_test_all.csv\")\n",
    "data_y_test = pd.read_csv(\"y_test_all.csv\")"
   ]
  },
  {
   "cell_type": "code",
   "execution_count": 28,
   "id": "c9d34585",
   "metadata": {},
   "outputs": [],
   "source": [
    "data_x_train = data_x_train.to_numpy()\n",
    "data_x_test = data_x_test.to_numpy()\n",
    "\n",
    "X_train = data_x_train.astype('float') / 255\n",
    "X_test = data_x_test.astype('float') / 255"
   ]
  },
  {
   "cell_type": "code",
   "execution_count": 29,
   "id": "fed98069",
   "metadata": {},
   "outputs": [],
   "source": [
    "X_train_reshaped = data_x_train.reshape(-1, 48, 48, 1)\n",
    "X_test_reshaped = data_x_test.reshape(-1, 48, 48, 1)"
   ]
  },
  {
   "cell_type": "code",
   "execution_count": 30,
   "id": "abc8a2ac",
   "metadata": {},
   "outputs": [
    {
     "name": "stdout",
     "output_type": "stream",
     "text": [
      "WARNING:tensorflow:From C:\\Users\\kondv\\anaconda3\\Lib\\site-packages\\keras\\src\\layers\\pooling\\max_pooling2d.py:161: The name tf.nn.max_pool is deprecated. Please use tf.nn.max_pool2d instead.\n",
      "\n",
      "Model: \"sequential_1\"\n",
      "_________________________________________________________________\n",
      " Layer (type)                Output Shape              Param #   \n",
      "=================================================================\n",
      " conv2d (Conv2D)             (None, 46, 46, 64)        640       \n",
      "                                                                 \n",
      " max_pooling2d (MaxPooling2  (None, 23, 23, 64)        0         \n",
      " D)                                                              \n",
      "                                                                 \n",
      " conv2d_1 (Conv2D)           (None, 21, 21, 32)        18464     \n",
      "                                                                 \n",
      " max_pooling2d_1 (MaxPoolin  (None, 7, 7, 32)          0         \n",
      " g2D)                                                            \n",
      "                                                                 \n",
      " flatten_1 (Flatten)         (None, 1568)              0         \n",
      "                                                                 \n",
      " dense_4 (Dense)             (None, 64)                100416    \n",
      "                                                                 \n",
      " dense_5 (Dense)             (None, 32)                2080      \n",
      "                                                                 \n",
      " dense_6 (Dense)             (None, 10)                330       \n",
      "                                                                 \n",
      "=================================================================\n",
      "Total params: 121930 (476.29 KB)\n",
      "Trainable params: 121930 (476.29 KB)\n",
      "Non-trainable params: 0 (0.00 Byte)\n",
      "_________________________________________________________________\n"
     ]
    }
   ],
   "source": [
    "from keras.models import Sequential\n",
    "from keras.layers import Conv2D, MaxPooling2D, Flatten, Dense\n",
    "\n",
    "model = Sequential()\n",
    "# First Convolutional layer\n",
    "model.add(Conv2D(64, (3, 3), activation='relu', input_shape=(48, 48, 1)))\n",
    "model.add(MaxPooling2D((2, 2)))\n",
    "\n",
    "# Second Convolutional layer\n",
    "model.add(Conv2D(32, (3, 3), activation='relu'))\n",
    "model.add(MaxPooling2D((3, 3)))\n",
    "\n",
    "# Flattening followed by Dense layers\n",
    "model.add(Flatten())\n",
    "model.add(Dense(64, activation='relu'))\n",
    "model.add(Dense(32, activation='relu'))\n",
    "model.add(Dense(10, activation='softmax')) # Assuming 10 classes for classification\n",
    "\n",
    "# Compile the model\n",
    "model.compile(optimizer='adam', loss='sparse_categorical_crossentropy', metrics=['accuracy'])\n",
    "\n",
    "model.summary()\n"
   ]
  },
  {
   "cell_type": "code",
   "execution_count": 31,
   "id": "7f28f50c",
   "metadata": {},
   "outputs": [
    {
     "name": "stdout",
     "output_type": "stream",
     "text": [
      "Epoch 1/20\n",
      "243/243 [==============================] - 7s 24ms/step - loss: 1.3557 - accuracy: 0.5573 - val_loss: 21.2927 - val_accuracy: 0.1347\n",
      "Epoch 2/20\n",
      "243/243 [==============================] - 5s 22ms/step - loss: 0.3341 - accuracy: 0.9045 - val_loss: 30.8735 - val_accuracy: 0.1600\n",
      "Epoch 3/20\n",
      "243/243 [==============================] - 6s 23ms/step - loss: 0.1866 - accuracy: 0.9496 - val_loss: 39.1979 - val_accuracy: 0.1610\n",
      "Epoch 4/20\n",
      "243/243 [==============================] - 6s 23ms/step - loss: 0.1104 - accuracy: 0.9696 - val_loss: 41.1677 - val_accuracy: 0.1543\n",
      "Epoch 5/20\n",
      "243/243 [==============================] - 5s 22ms/step - loss: 0.0838 - accuracy: 0.9769 - val_loss: 34.0218 - val_accuracy: 0.1569\n",
      "Epoch 6/20\n",
      "243/243 [==============================] - 5s 22ms/step - loss: 0.0730 - accuracy: 0.9807 - val_loss: 52.4225 - val_accuracy: 0.1605\n",
      "Epoch 7/20\n",
      "243/243 [==============================] - 6s 23ms/step - loss: 0.0701 - accuracy: 0.9781 - val_loss: 37.2526 - val_accuracy: 0.1615\n",
      "Epoch 8/20\n",
      "243/243 [==============================] - 5s 22ms/step - loss: 0.0493 - accuracy: 0.9871 - val_loss: 38.2160 - val_accuracy: 0.1605\n",
      "Epoch 9/20\n",
      "243/243 [==============================] - 5s 22ms/step - loss: 0.0463 - accuracy: 0.9865 - val_loss: 40.1336 - val_accuracy: 0.1625\n",
      "Epoch 10/20\n",
      "243/243 [==============================] - 5s 22ms/step - loss: 0.0948 - accuracy: 0.9738 - val_loss: 37.9224 - val_accuracy: 0.1625\n",
      "Epoch 11/20\n",
      "243/243 [==============================] - 5s 21ms/step - loss: 0.0316 - accuracy: 0.9907 - val_loss: 55.2959 - val_accuracy: 0.1615\n",
      "Epoch 12/20\n",
      "243/243 [==============================] - 5s 21ms/step - loss: 0.0457 - accuracy: 0.9877 - val_loss: 39.8057 - val_accuracy: 0.1620\n",
      "Epoch 13/20\n",
      "243/243 [==============================] - 5s 22ms/step - loss: 0.0249 - accuracy: 0.9932 - val_loss: 53.9741 - val_accuracy: 0.1625\n",
      "Epoch 14/20\n",
      "243/243 [==============================] - 5s 21ms/step - loss: 0.0173 - accuracy: 0.9957 - val_loss: 42.5021 - val_accuracy: 0.1620\n",
      "Epoch 15/20\n",
      "243/243 [==============================] - 5s 22ms/step - loss: 0.0213 - accuracy: 0.9951 - val_loss: 53.5199 - val_accuracy: 0.1620\n",
      "Epoch 16/20\n",
      "243/243 [==============================] - 5s 21ms/step - loss: 0.0665 - accuracy: 0.9816 - val_loss: 49.5954 - val_accuracy: 0.1620\n",
      "Epoch 17/20\n",
      "243/243 [==============================] - 5s 21ms/step - loss: 0.0087 - accuracy: 0.9972 - val_loss: 51.2650 - val_accuracy: 0.1625\n",
      "Epoch 18/20\n",
      "243/243 [==============================] - 5s 21ms/step - loss: 0.0094 - accuracy: 0.9981 - val_loss: 54.2809 - val_accuracy: 0.1620\n",
      "Epoch 19/20\n",
      "243/243 [==============================] - 5s 22ms/step - loss: 0.0360 - accuracy: 0.9906 - val_loss: 28.9990 - val_accuracy: 0.1631\n",
      "Epoch 20/20\n",
      "243/243 [==============================] - 5s 21ms/step - loss: 0.0523 - accuracy: 0.9862 - val_loss: 40.9906 - val_accuracy: 0.1610\n"
     ]
    }
   ],
   "source": [
    "history = model.fit(X_train_reshaped,data_y_train,epochs=20,validation_split=0.2)"
   ]
  },
  {
   "cell_type": "code",
   "execution_count": 32,
   "id": "75955c78",
   "metadata": {},
   "outputs": [
    {
     "name": "stdout",
     "output_type": "stream",
     "text": [
      "97/97 [==============================] - 1s 7ms/step\n"
     ]
    }
   ],
   "source": [
    "y_prob = model.predict(X_test_reshaped)"
   ]
  },
  {
   "cell_type": "code",
   "execution_count": 33,
   "id": "be1eef87",
   "metadata": {},
   "outputs": [],
   "source": [
    "y_pred = y_prob.argmax(axis=1)"
   ]
  },
  {
   "cell_type": "code",
   "execution_count": 34,
   "id": "22ce9ba5",
   "metadata": {},
   "outputs": [
    {
     "data": {
      "text/plain": [
       "array([1, 4, 3, ..., 3, 1, 0], dtype=int64)"
      ]
     },
     "execution_count": 34,
     "metadata": {},
     "output_type": "execute_result"
    }
   ],
   "source": [
    "y_pred"
   ]
  },
  {
   "cell_type": "code",
   "execution_count": 35,
   "id": "e2ca5998",
   "metadata": {},
   "outputs": [
    {
     "data": {
      "text/plain": [
       "0.8161812297734627"
      ]
     },
     "execution_count": 35,
     "metadata": {},
     "output_type": "execute_result"
    }
   ],
   "source": [
    "from sklearn.metrics import accuracy_score\n",
    "accuracy_score(data_y_test,y_pred)"
   ]
  },
  {
   "cell_type": "code",
   "execution_count": 36,
   "id": "474470da",
   "metadata": {},
   "outputs": [
    {
     "data": {
      "image/png": "[encoded data removed]",
      "text/plain": [
       "<Figure size 800x500 with 1 Axes>"
      ]
     },
     "metadata": {},
     "output_type": "display_data"
    }
   ],
   "source": [
    "pd.DataFrame(history.history).plot(figsize=(8, 5))\n",
    "plt.grid(True)\n",
    "plt.gca().set_ylim(0, 1)\n",
    "plt.show()"
   ]
  },
  {
   "cell_type": "code",
   "execution_count": 37,
   "id": "dff161c2",
   "metadata": {},
   "outputs": [
    {
     "name": "stdout",
     "output_type": "stream",
     "text": [
      "1/1 [==============================] - 0s 21ms/step\n"
     ]
    }
   ],
   "source": [
    "# Assuming data_sm_x_test[10] is a single sample\n",
    "sample = X_test_reshaped[780]\n",
    "\n",
    "# Add an extra dimension to make it a batch of one sample\n",
    "# This can be done using np.expand_dims\n",
    "sample = np.expand_dims(sample, axis=0)\n",
    "\n",
    "# Now use model.predict\n",
    "prediction = model.predict(sample)\n",
    "\n",
    "# Get the class with the highest probability\n",
    "predicted_class = prediction.argmax(axis=1)\n"
   ]
  },
  {
   "cell_type": "code",
   "execution_count": 38,
   "id": "5108a5b5",
   "metadata": {},
   "outputs": [
    {
     "data": {
      "text/plain": [
       "array([4], dtype=int64)"
      ]
     },
     "execution_count": 38,
     "metadata": {},
     "output_type": "execute_result"
    }
   ],
   "source": [
    "predicted_class"
   ]
  },
  {
   "cell_type": "code",
   "execution_count": 39,
   "id": "1cdc4dc8",
   "metadata": {},
   "outputs": [
    {
     "data": {
      "image/png": "[encoded data removed]",
      "text/plain": [
       "<Figure size 640x480 with 1 Axes>"
      ]
     },
     "metadata": {},
     "output_type": "display_data"
    }
   ],
   "source": [
    "# Extract the eleventh row as an array\n",
    "instance_to_plot = data_x_test[780]\n",
    "\n",
    "# Reshape the array as 48x48 array\n",
    "image_data = instance_to_plot.reshape(48, 48)\n",
    "\n",
    "# Plot the image\n",
    "plt.imshow(image_data)\n",
    "plt.show()"
   ]
  }
 ],
 "metadata": {
  "kernelspec": {
   "display_name": "Python 3 (ipykernel)",
   "language": "python",
   "name": "python3"
  },
  "language_info": {
   "codemirror_mode": {
    "name": "ipython",
    "version": 3
   },
   "file_extension": ".py",
   "mimetype": "text/x-python",
   "name": "python",
   "nbconvert_exporter": "python",
   "pygments_lexer": "ipython3",
   "version": "3.11.5"
  }
 },
 "nbformat": 4,
 "nbformat_minor": 5
}
