{
 "cells": [
  {
   "cell_type": "code",
   "execution_count": 186,
   "id": "736a655e",
   "metadata": {},
   "outputs": [],
   "source": [
    "# Import core libararies\n",
    "import pandas as pd\n",
    "import numpy as np\n",
    "import cv2 \n",
    "\n",
    "# Import plotting library\n",
    "%matplotlib inline\n",
    "import matplotlib as mpl\n",
    "import matplotlib.pyplot as plt\n",
    "import seaborn as sns\n",
    "\n",
    "# Import libraries for prediction and data handing\n",
    "from sklearn.model_selection import train_test_split\n",
    "from sklearn.metrics import classification_report\n",
    "from sklearn.metrics import accuracy_score\n",
    "from sklearn.metrics import confusion_matrix\n",
    "from sklearn.metrics import roc_curve, auc\n",
    "from sklearn.preprocessing import label_binarize\n",
    "from itertools import cycle\n",
    "from sklearn.metrics import roc_auc_score\n",
    "\n",
    "#Import Warnings\n",
    "import warnings\n",
    "warnings.filterwarnings('ignore')"
   ]
  },
  {
   "cell_type": "code",
   "execution_count": 187,
   "id": "a0d30496",
   "metadata": {},
   "outputs": [],
   "source": [
    "# Read the training data CSV file\n",
    "data = pd.read_csv(\"x_train_all.csv\")"
   ]
  },
  {
   "cell_type": "code",
   "execution_count": 188,
   "id": "afa9d74d",
   "metadata": {},
   "outputs": [
    {
     "data": {
      "text/plain": [
       "(9690, 2304)"
      ]
     },
     "execution_count": 188,
     "metadata": {},
     "output_type": "execute_result"
    }
   ],
   "source": [
    "# Print the dimensions of the data\n",
    "data.shape"
   ]
  },
  {
   "cell_type": "code",
   "execution_count": 189,
   "id": "4fb1bc8a",
   "metadata": {},
   "outputs": [
    {
     "name": "stdout",
     "output_type": "stream",
     "text": [
      "<class 'pandas.core.frame.DataFrame'>\n",
      "RangeIndex: 9690 entries, 0 to 9689\n",
      "Columns: 2304 entries, 0 to 2303\n",
      "dtypes: float64(2304)\n",
      "memory usage: 170.3 MB\n"
     ]
    }
   ],
   "source": [
    "# Print basic info about the data\n",
    "data.info()"
   ]
  },
  {
   "cell_type": "code",
   "execution_count": 190,
   "id": "25d30af6",
   "metadata": {},
   "outputs": [
    {
     "data": {
      "text/html": [
       "<div>\n",
       "<style scoped>\n",
       "    .dataframe tbody tr th:only-of-type {\n",
       "        vertical-align: middle;\n",
       "    }\n",
       "\n",
       "    .dataframe tbody tr th {\n",
       "        vertical-align: top;\n",
       "    }\n",
       "\n",
       "    .dataframe thead th {\n",
       "        text-align: right;\n",
       "    }\n",
       "</style>\n",
       "<table border=\"1\" class=\"dataframe\">\n",
       "  <thead>\n",
       "    <tr style=\"text-align: right;\">\n",
       "      <th></th>\n",
       "      <th>0</th>\n",
       "      <th>1</th>\n",
       "      <th>2</th>\n",
       "      <th>3</th>\n",
       "      <th>4</th>\n",
       "      <th>5</th>\n",
       "      <th>6</th>\n",
       "      <th>7</th>\n",
       "      <th>8</th>\n",
       "      <th>9</th>\n",
       "      <th>...</th>\n",
       "      <th>2294</th>\n",
       "      <th>2295</th>\n",
       "      <th>2296</th>\n",
       "      <th>2297</th>\n",
       "      <th>2298</th>\n",
       "      <th>2299</th>\n",
       "      <th>2300</th>\n",
       "      <th>2301</th>\n",
       "      <th>2302</th>\n",
       "      <th>2303</th>\n",
       "    </tr>\n",
       "  </thead>\n",
       "  <tbody>\n",
       "    <tr>\n",
       "      <th>0</th>\n",
       "      <td>78.0</td>\n",
       "      <td>77.0</td>\n",
       "      <td>76.0</td>\n",
       "      <td>82.0</td>\n",
       "      <td>87.0</td>\n",
       "      <td>92.0</td>\n",
       "      <td>104.0</td>\n",
       "      <td>119.0</td>\n",
       "      <td>117.0</td>\n",
       "      <td>120.0</td>\n",
       "      <td>...</td>\n",
       "      <td>87.0</td>\n",
       "      <td>79.0</td>\n",
       "      <td>72.0</td>\n",
       "      <td>76.0</td>\n",
       "      <td>83.0</td>\n",
       "      <td>95.0</td>\n",
       "      <td>99.0</td>\n",
       "      <td>98.0</td>\n",
       "      <td>95.0</td>\n",
       "      <td>94.0</td>\n",
       "    </tr>\n",
       "    <tr>\n",
       "      <th>1</th>\n",
       "      <td>73.0</td>\n",
       "      <td>75.0</td>\n",
       "      <td>79.0</td>\n",
       "      <td>78.0</td>\n",
       "      <td>76.0</td>\n",
       "      <td>75.0</td>\n",
       "      <td>89.0</td>\n",
       "      <td>107.0</td>\n",
       "      <td>133.0</td>\n",
       "      <td>125.0</td>\n",
       "      <td>...</td>\n",
       "      <td>96.0</td>\n",
       "      <td>93.0</td>\n",
       "      <td>85.0</td>\n",
       "      <td>77.0</td>\n",
       "      <td>69.0</td>\n",
       "      <td>73.0</td>\n",
       "      <td>83.0</td>\n",
       "      <td>100.0</td>\n",
       "      <td>101.0</td>\n",
       "      <td>101.0</td>\n",
       "    </tr>\n",
       "    <tr>\n",
       "      <th>2</th>\n",
       "      <td>72.0</td>\n",
       "      <td>75.0</td>\n",
       "      <td>79.0</td>\n",
       "      <td>77.0</td>\n",
       "      <td>81.0</td>\n",
       "      <td>89.0</td>\n",
       "      <td>105.0</td>\n",
       "      <td>109.0</td>\n",
       "      <td>86.0</td>\n",
       "      <td>90.0</td>\n",
       "      <td>...</td>\n",
       "      <td>98.0</td>\n",
       "      <td>95.0</td>\n",
       "      <td>88.0</td>\n",
       "      <td>80.0</td>\n",
       "      <td>73.0</td>\n",
       "      <td>71.0</td>\n",
       "      <td>74.0</td>\n",
       "      <td>80.0</td>\n",
       "      <td>89.0</td>\n",
       "      <td>95.0</td>\n",
       "    </tr>\n",
       "    <tr>\n",
       "      <th>3</th>\n",
       "      <td>67.0</td>\n",
       "      <td>70.0</td>\n",
       "      <td>74.0</td>\n",
       "      <td>80.0</td>\n",
       "      <td>93.0</td>\n",
       "      <td>107.0</td>\n",
       "      <td>110.0</td>\n",
       "      <td>96.0</td>\n",
       "      <td>69.0</td>\n",
       "      <td>100.0</td>\n",
       "      <td>...</td>\n",
       "      <td>112.0</td>\n",
       "      <td>92.0</td>\n",
       "      <td>87.0</td>\n",
       "      <td>82.0</td>\n",
       "      <td>77.0</td>\n",
       "      <td>72.0</td>\n",
       "      <td>70.0</td>\n",
       "      <td>72.0</td>\n",
       "      <td>81.0</td>\n",
       "      <td>88.0</td>\n",
       "    </tr>\n",
       "    <tr>\n",
       "      <th>4</th>\n",
       "      <td>74.0</td>\n",
       "      <td>74.0</td>\n",
       "      <td>73.0</td>\n",
       "      <td>72.0</td>\n",
       "      <td>77.0</td>\n",
       "      <td>87.0</td>\n",
       "      <td>104.0</td>\n",
       "      <td>109.0</td>\n",
       "      <td>84.0</td>\n",
       "      <td>83.0</td>\n",
       "      <td>...</td>\n",
       "      <td>100.0</td>\n",
       "      <td>98.0</td>\n",
       "      <td>99.0</td>\n",
       "      <td>100.0</td>\n",
       "      <td>99.0</td>\n",
       "      <td>89.0</td>\n",
       "      <td>78.0</td>\n",
       "      <td>66.0</td>\n",
       "      <td>68.0</td>\n",
       "      <td>72.0</td>\n",
       "    </tr>\n",
       "  </tbody>\n",
       "</table>\n",
       "<p>5 rows × 2304 columns</p>\n",
       "</div>"
      ],
      "text/plain": [
       "      0     1     2     3     4      5      6      7      8      9  ...  \\\n",
       "0  78.0  77.0  76.0  82.0  87.0   92.0  104.0  119.0  117.0  120.0  ...   \n",
       "1  73.0  75.0  79.0  78.0  76.0   75.0   89.0  107.0  133.0  125.0  ...   \n",
       "2  72.0  75.0  79.0  77.0  81.0   89.0  105.0  109.0   86.0   90.0  ...   \n",
       "3  67.0  70.0  74.0  80.0  93.0  107.0  110.0   96.0   69.0  100.0  ...   \n",
       "4  74.0  74.0  73.0  72.0  77.0   87.0  104.0  109.0   84.0   83.0  ...   \n",
       "\n",
       "    2294  2295  2296   2297  2298  2299  2300   2301   2302   2303  \n",
       "0   87.0  79.0  72.0   76.0  83.0  95.0  99.0   98.0   95.0   94.0  \n",
       "1   96.0  93.0  85.0   77.0  69.0  73.0  83.0  100.0  101.0  101.0  \n",
       "2   98.0  95.0  88.0   80.0  73.0  71.0  74.0   80.0   89.0   95.0  \n",
       "3  112.0  92.0  87.0   82.0  77.0  72.0  70.0   72.0   81.0   88.0  \n",
       "4  100.0  98.0  99.0  100.0  99.0  89.0  78.0   66.0   68.0   72.0  \n",
       "\n",
       "[5 rows x 2304 columns]"
      ]
     },
     "execution_count": 190,
     "metadata": {},
     "output_type": "execute_result"
    }
   ],
   "source": [
    "# Display the first 5 rows of data\n",
    "data.head()"
   ]
  },
  {
   "cell_type": "code",
   "execution_count": 191,
   "id": "81c28fac",
   "metadata": {},
   "outputs": [
    {
     "data": {
      "text/html": [
       "<div>\n",
       "<style scoped>\n",
       "    .dataframe tbody tr th:only-of-type {\n",
       "        vertical-align: middle;\n",
       "    }\n",
       "\n",
       "    .dataframe tbody tr th {\n",
       "        vertical-align: top;\n",
       "    }\n",
       "\n",
       "    .dataframe thead th {\n",
       "        text-align: right;\n",
       "    }\n",
       "</style>\n",
       "<table border=\"1\" class=\"dataframe\">\n",
       "  <thead>\n",
       "    <tr style=\"text-align: right;\">\n",
       "      <th></th>\n",
       "      <th>0</th>\n",
       "      <th>1</th>\n",
       "      <th>2</th>\n",
       "      <th>3</th>\n",
       "      <th>4</th>\n",
       "      <th>5</th>\n",
       "      <th>6</th>\n",
       "      <th>7</th>\n",
       "      <th>8</th>\n",
       "      <th>9</th>\n",
       "      <th>...</th>\n",
       "      <th>2294</th>\n",
       "      <th>2295</th>\n",
       "      <th>2296</th>\n",
       "      <th>2297</th>\n",
       "      <th>2298</th>\n",
       "      <th>2299</th>\n",
       "      <th>2300</th>\n",
       "      <th>2301</th>\n",
       "      <th>2302</th>\n",
       "      <th>2303</th>\n",
       "    </tr>\n",
       "  </thead>\n",
       "  <tbody>\n",
       "    <tr>\n",
       "      <th>count</th>\n",
       "      <td>9690.000000</td>\n",
       "      <td>9690.000000</td>\n",
       "      <td>9690.000000</td>\n",
       "      <td>9690.000000</td>\n",
       "      <td>9690.000000</td>\n",
       "      <td>9690.000000</td>\n",
       "      <td>9690.000000</td>\n",
       "      <td>9690.000000</td>\n",
       "      <td>9690.000000</td>\n",
       "      <td>9690.000000</td>\n",
       "      <td>...</td>\n",
       "      <td>9690.000000</td>\n",
       "      <td>9690.000000</td>\n",
       "      <td>9690.000000</td>\n",
       "      <td>9690.000000</td>\n",
       "      <td>9690.000000</td>\n",
       "      <td>9690.000000</td>\n",
       "      <td>9690.00000</td>\n",
       "      <td>9690.000000</td>\n",
       "      <td>9690.000000</td>\n",
       "      <td>9690.000000</td>\n",
       "    </tr>\n",
       "    <tr>\n",
       "      <th>mean</th>\n",
       "      <td>89.658514</td>\n",
       "      <td>89.545201</td>\n",
       "      <td>89.343756</td>\n",
       "      <td>89.566770</td>\n",
       "      <td>89.812590</td>\n",
       "      <td>89.853251</td>\n",
       "      <td>89.883282</td>\n",
       "      <td>89.978431</td>\n",
       "      <td>90.170175</td>\n",
       "      <td>90.519092</td>\n",
       "      <td>...</td>\n",
       "      <td>72.234881</td>\n",
       "      <td>71.833437</td>\n",
       "      <td>71.394118</td>\n",
       "      <td>70.572136</td>\n",
       "      <td>69.660165</td>\n",
       "      <td>68.878638</td>\n",
       "      <td>68.29453</td>\n",
       "      <td>67.831889</td>\n",
       "      <td>67.548297</td>\n",
       "      <td>67.393189</td>\n",
       "    </tr>\n",
       "    <tr>\n",
       "      <th>std</th>\n",
       "      <td>77.521341</td>\n",
       "      <td>77.430539</td>\n",
       "      <td>77.350452</td>\n",
       "      <td>77.498754</td>\n",
       "      <td>77.437292</td>\n",
       "      <td>77.279125</td>\n",
       "      <td>77.085714</td>\n",
       "      <td>77.081732</td>\n",
       "      <td>77.062371</td>\n",
       "      <td>77.155644</td>\n",
       "      <td>...</td>\n",
       "      <td>65.369022</td>\n",
       "      <td>65.439225</td>\n",
       "      <td>65.402298</td>\n",
       "      <td>65.144238</td>\n",
       "      <td>64.885963</td>\n",
       "      <td>64.530366</td>\n",
       "      <td>64.27455</td>\n",
       "      <td>63.799350</td>\n",
       "      <td>63.437102</td>\n",
       "      <td>63.506304</td>\n",
       "    </tr>\n",
       "    <tr>\n",
       "      <th>min</th>\n",
       "      <td>5.000000</td>\n",
       "      <td>5.000000</td>\n",
       "      <td>4.000000</td>\n",
       "      <td>5.000000</td>\n",
       "      <td>5.000000</td>\n",
       "      <td>5.000000</td>\n",
       "      <td>5.000000</td>\n",
       "      <td>4.000000</td>\n",
       "      <td>4.000000</td>\n",
       "      <td>4.000000</td>\n",
       "      <td>...</td>\n",
       "      <td>4.000000</td>\n",
       "      <td>4.000000</td>\n",
       "      <td>4.000000</td>\n",
       "      <td>5.000000</td>\n",
       "      <td>4.000000</td>\n",
       "      <td>4.000000</td>\n",
       "      <td>4.00000</td>\n",
       "      <td>5.000000</td>\n",
       "      <td>4.000000</td>\n",
       "      <td>4.000000</td>\n",
       "    </tr>\n",
       "    <tr>\n",
       "      <th>25%</th>\n",
       "      <td>32.000000</td>\n",
       "      <td>32.000000</td>\n",
       "      <td>32.000000</td>\n",
       "      <td>31.000000</td>\n",
       "      <td>32.000000</td>\n",
       "      <td>32.000000</td>\n",
       "      <td>32.000000</td>\n",
       "      <td>33.000000</td>\n",
       "      <td>33.000000</td>\n",
       "      <td>33.000000</td>\n",
       "      <td>...</td>\n",
       "      <td>26.000000</td>\n",
       "      <td>26.000000</td>\n",
       "      <td>26.000000</td>\n",
       "      <td>26.000000</td>\n",
       "      <td>26.000000</td>\n",
       "      <td>25.000000</td>\n",
       "      <td>25.00000</td>\n",
       "      <td>25.000000</td>\n",
       "      <td>25.000000</td>\n",
       "      <td>25.000000</td>\n",
       "    </tr>\n",
       "    <tr>\n",
       "      <th>50%</th>\n",
       "      <td>57.000000</td>\n",
       "      <td>58.000000</td>\n",
       "      <td>57.000000</td>\n",
       "      <td>58.000000</td>\n",
       "      <td>58.000000</td>\n",
       "      <td>58.000000</td>\n",
       "      <td>58.000000</td>\n",
       "      <td>58.000000</td>\n",
       "      <td>59.000000</td>\n",
       "      <td>59.000000</td>\n",
       "      <td>...</td>\n",
       "      <td>46.000000</td>\n",
       "      <td>46.000000</td>\n",
       "      <td>46.000000</td>\n",
       "      <td>45.000000</td>\n",
       "      <td>45.000000</td>\n",
       "      <td>44.000000</td>\n",
       "      <td>44.00000</td>\n",
       "      <td>43.000000</td>\n",
       "      <td>43.000000</td>\n",
       "      <td>43.000000</td>\n",
       "    </tr>\n",
       "    <tr>\n",
       "      <th>75%</th>\n",
       "      <td>126.000000</td>\n",
       "      <td>124.000000</td>\n",
       "      <td>122.750000</td>\n",
       "      <td>123.000000</td>\n",
       "      <td>125.000000</td>\n",
       "      <td>123.750000</td>\n",
       "      <td>124.000000</td>\n",
       "      <td>124.000000</td>\n",
       "      <td>124.000000</td>\n",
       "      <td>126.000000</td>\n",
       "      <td>...</td>\n",
       "      <td>95.000000</td>\n",
       "      <td>93.000000</td>\n",
       "      <td>91.000000</td>\n",
       "      <td>88.000000</td>\n",
       "      <td>86.000000</td>\n",
       "      <td>84.000000</td>\n",
       "      <td>82.00000</td>\n",
       "      <td>82.000000</td>\n",
       "      <td>81.000000</td>\n",
       "      <td>81.000000</td>\n",
       "    </tr>\n",
       "    <tr>\n",
       "      <th>max</th>\n",
       "      <td>255.000000</td>\n",
       "      <td>255.000000</td>\n",
       "      <td>255.000000</td>\n",
       "      <td>255.000000</td>\n",
       "      <td>255.000000</td>\n",
       "      <td>255.000000</td>\n",
       "      <td>255.000000</td>\n",
       "      <td>255.000000</td>\n",
       "      <td>255.000000</td>\n",
       "      <td>255.000000</td>\n",
       "      <td>...</td>\n",
       "      <td>255.000000</td>\n",
       "      <td>255.000000</td>\n",
       "      <td>255.000000</td>\n",
       "      <td>255.000000</td>\n",
       "      <td>255.000000</td>\n",
       "      <td>255.000000</td>\n",
       "      <td>255.00000</td>\n",
       "      <td>255.000000</td>\n",
       "      <td>255.000000</td>\n",
       "      <td>255.000000</td>\n",
       "    </tr>\n",
       "  </tbody>\n",
       "</table>\n",
       "<p>8 rows × 2304 columns</p>\n",
       "</div>"
      ],
      "text/plain": [
       "                 0            1            2            3            4  \\\n",
       "count  9690.000000  9690.000000  9690.000000  9690.000000  9690.000000   \n",
       "mean     89.658514    89.545201    89.343756    89.566770    89.812590   \n",
       "std      77.521341    77.430539    77.350452    77.498754    77.437292   \n",
       "min       5.000000     5.000000     4.000000     5.000000     5.000000   \n",
       "25%      32.000000    32.000000    32.000000    31.000000    32.000000   \n",
       "50%      57.000000    58.000000    57.000000    58.000000    58.000000   \n",
       "75%     126.000000   124.000000   122.750000   123.000000   125.000000   \n",
       "max     255.000000   255.000000   255.000000   255.000000   255.000000   \n",
       "\n",
       "                 5            6            7            8            9  ...  \\\n",
       "count  9690.000000  9690.000000  9690.000000  9690.000000  9690.000000  ...   \n",
       "mean     89.853251    89.883282    89.978431    90.170175    90.519092  ...   \n",
       "std      77.279125    77.085714    77.081732    77.062371    77.155644  ...   \n",
       "min       5.000000     5.000000     4.000000     4.000000     4.000000  ...   \n",
       "25%      32.000000    32.000000    33.000000    33.000000    33.000000  ...   \n",
       "50%      58.000000    58.000000    58.000000    59.000000    59.000000  ...   \n",
       "75%     123.750000   124.000000   124.000000   124.000000   126.000000  ...   \n",
       "max     255.000000   255.000000   255.000000   255.000000   255.000000  ...   \n",
       "\n",
       "              2294         2295         2296         2297         2298  \\\n",
       "count  9690.000000  9690.000000  9690.000000  9690.000000  9690.000000   \n",
       "mean     72.234881    71.833437    71.394118    70.572136    69.660165   \n",
       "std      65.369022    65.439225    65.402298    65.144238    64.885963   \n",
       "min       4.000000     4.000000     4.000000     5.000000     4.000000   \n",
       "25%      26.000000    26.000000    26.000000    26.000000    26.000000   \n",
       "50%      46.000000    46.000000    46.000000    45.000000    45.000000   \n",
       "75%      95.000000    93.000000    91.000000    88.000000    86.000000   \n",
       "max     255.000000   255.000000   255.000000   255.000000   255.000000   \n",
       "\n",
       "              2299        2300         2301         2302         2303  \n",
       "count  9690.000000  9690.00000  9690.000000  9690.000000  9690.000000  \n",
       "mean     68.878638    68.29453    67.831889    67.548297    67.393189  \n",
       "std      64.530366    64.27455    63.799350    63.437102    63.506304  \n",
       "min       4.000000     4.00000     5.000000     4.000000     4.000000  \n",
       "25%      25.000000    25.00000    25.000000    25.000000    25.000000  \n",
       "50%      44.000000    44.00000    43.000000    43.000000    43.000000  \n",
       "75%      84.000000    82.00000    82.000000    81.000000    81.000000  \n",
       "max     255.000000   255.00000   255.000000   255.000000   255.000000  \n",
       "\n",
       "[8 rows x 2304 columns]"
      ]
     },
     "execution_count": 191,
     "metadata": {},
     "output_type": "execute_result"
    }
   ],
   "source": [
    "# Print some statistical description\n",
    "data.describe()"
   ]
  },
  {
   "cell_type": "code",
   "execution_count": 192,
   "id": "ce76f639",
   "metadata": {},
   "outputs": [
    {
     "data": {
      "text/html": [
       "<div>\n",
       "<style scoped>\n",
       "    .dataframe tbody tr th:only-of-type {\n",
       "        vertical-align: middle;\n",
       "    }\n",
       "\n",
       "    .dataframe tbody tr th {\n",
       "        vertical-align: top;\n",
       "    }\n",
       "\n",
       "    .dataframe thead th {\n",
       "        text-align: right;\n",
       "    }\n",
       "</style>\n",
       "<table border=\"1\" class=\"dataframe\">\n",
       "  <thead>\n",
       "    <tr style=\"text-align: right;\">\n",
       "      <th></th>\n",
       "      <th>0</th>\n",
       "      <th>1</th>\n",
       "      <th>2</th>\n",
       "      <th>3</th>\n",
       "      <th>4</th>\n",
       "      <th>5</th>\n",
       "      <th>6</th>\n",
       "      <th>7</th>\n",
       "      <th>8</th>\n",
       "      <th>9</th>\n",
       "      <th>...</th>\n",
       "      <th>2294</th>\n",
       "      <th>2295</th>\n",
       "      <th>2296</th>\n",
       "      <th>2297</th>\n",
       "      <th>2298</th>\n",
       "      <th>2299</th>\n",
       "      <th>2300</th>\n",
       "      <th>2301</th>\n",
       "      <th>2302</th>\n",
       "      <th>2303</th>\n",
       "    </tr>\n",
       "  </thead>\n",
       "  <tbody>\n",
       "  </tbody>\n",
       "</table>\n",
       "<p>0 rows × 2304 columns</p>\n",
       "</div>"
      ],
      "text/plain": [
       "Empty DataFrame\n",
       "Columns: [0, 1, 2, 3, 4, 5, 6, 7, 8, 9, 10, 11, 12, 13, 14, 15, 16, 17, 18, 19, 20, 21, 22, 23, 24, 25, 26, 27, 28, 29, 30, 31, 32, 33, 34, 35, 36, 37, 38, 39, 40, 41, 42, 43, 44, 45, 46, 47, 48, 49, 50, 51, 52, 53, 54, 55, 56, 57, 58, 59, 60, 61, 62, 63, 64, 65, 66, 67, 68, 69, 70, 71, 72, 73, 74, 75, 76, 77, 78, 79, 80, 81, 82, 83, 84, 85, 86, 87, 88, 89, 90, 91, 92, 93, 94, 95, 96, 97, 98, 99, ...]\n",
       "Index: []\n",
       "\n",
       "[0 rows x 2304 columns]"
      ]
     },
     "execution_count": 192,
     "metadata": {},
     "output_type": "execute_result"
    }
   ],
   "source": [
    "#Check if any rows contain missing data\n",
    "missing_data = data[data.isnull().any(axis=1)].head()\n",
    "\n",
    "# Print the rows which contain the empty data\n",
    "missing_data   "
   ]
  },
  {
   "cell_type": "code",
   "execution_count": 193,
   "id": "839e1c2d",
   "metadata": {
    "scrolled": false
   },
   "outputs": [
    {
     "data": {
      "image/png": "[encoded data removed]",
      "text/plain": [
       "<Figure size 640x480 with 1 Axes>"
      ]
     },
     "metadata": {},
     "output_type": "display_data"
    }
   ],
   "source": [
    "# Extract the eleventh row as an array\n",
    "instance_to_plot = data.iloc[10].to_numpy()\n",
    "\n",
    "# Reshape the array as 48x48 array\n",
    "image_data = instance_to_plot.reshape(48, 48)\n",
    "\n",
    "# Plot the image\n",
    "plt.imshow(image_data)\n",
    "plt.show()"
   ]
  },
  {
   "cell_type": "code",
   "execution_count": 194,
   "id": "5b28d4d6",
   "metadata": {},
   "outputs": [],
   "source": [
    "# Normalize the data\n",
    "data = data.astype('float') / 255"
   ]
  },
  {
   "cell_type": "code",
   "execution_count": 195,
   "id": "d77d690e",
   "metadata": {},
   "outputs": [
    {
     "data": {
      "text/plain": [
       "(9690, 900)"
      ]
     },
     "execution_count": 195,
     "metadata": {},
     "output_type": "execute_result"
    }
   ],
   "source": [
    "# Create a new dataset with feature reduction applied\n",
    "data_sm = np.apply_along_axis(\n",
    "    func1d=lambda item: cv2.resize(item.reshape(48, 48), dsize=(30, 30)),\n",
    "    axis=1, arr=data).reshape(-1, 30*30)\n",
    "\n",
    "# Print the dimensions of the new data\n",
    "data_sm.shape"
   ]
  },
  {
   "cell_type": "code",
   "execution_count": 196,
   "id": "c1c47462",
   "metadata": {},
   "outputs": [
    {
     "data": {
      "image/png": "[encoded data removed]",
      "text/plain": [
       "<Figure size 640x480 with 1 Axes>"
      ]
     },
     "metadata": {},
     "output_type": "display_data"
    }
   ],
   "source": [
    "# Plotting the same image with reduced features\n",
    "image_data = data_sm[10].reshape(30, 30)\n",
    "plt.imshow(image_data)\n",
    "plt.show()"
   ]
  },
  {
   "cell_type": "code",
   "execution_count": 197,
   "id": "9d22ddf6",
   "metadata": {},
   "outputs": [],
   "source": [
    "# Read the target training data CSV file\n",
    "data_train = pd.read_csv(\"y_train_all.csv\")"
   ]
  },
  {
   "cell_type": "code",
   "execution_count": 198,
   "id": "1b4b930c",
   "metadata": {},
   "outputs": [],
   "source": [
    "# Splitting the data into Train and Test from traning dataset\n",
    "X_train, X_test, y_train, y_test = train_test_split(data_sm, data_train, test_size = 0.3, random_state = 1)"
   ]
  },
  {
   "cell_type": "code",
   "execution_count": 199,
   "id": "094763df",
   "metadata": {},
   "outputs": [
    {
     "name": "stdout",
     "output_type": "stream",
     "text": [
      "              precision    recall  f1-score   support\n",
      "\n",
      "           0       0.14      0.73      0.23        55\n",
      "           1       0.43      0.23      0.30       669\n",
      "           2       0.41      0.19      0.26       669\n",
      "           3       0.44      0.23      0.30       418\n",
      "           4       0.46      0.12      0.20       613\n",
      "           5       0.12      0.24      0.16        59\n",
      "           6       0.09      0.70      0.16       111\n",
      "           7       0.09      0.55      0.16        80\n",
      "           8       0.83      0.25      0.39       150\n",
      "           9       0.28      0.34      0.31        83\n",
      "\n",
      "    accuracy                           0.24      2907\n",
      "   macro avg       0.33      0.36      0.25      2907\n",
      "weighted avg       0.42      0.24      0.26      2907\n",
      "\n",
      "accuracy is 0.23873409012727898\n"
     ]
    }
   ],
   "source": [
    "# Naive Bayes on whole dataset\n",
    "from sklearn.naive_bayes import GaussianNB\n",
    "Model = GaussianNB()\n",
    "Model.fit(X_train, y_train)\n",
    "\n",
    "y_pred1 = Model.predict(X_test)\n",
    "\n",
    "# Summary of the predictions made by the classifier\n",
    "print(classification_report(y_test, y_pred1))\n",
    "# Accuracy score\n",
    "print('accuracy is',accuracy_score(y_pred1,y_test))"
   ]
  },
  {
   "cell_type": "code",
   "execution_count": 200,
   "id": "6e976d72",
   "metadata": {},
   "outputs": [
    {
     "data": {
      "text/plain": [
       "array([[ 39,   6,   1,   6,   2,   0,   0,   0,   0,   1],\n",
       "       [116, 205,  60, 181,  44,   1,  12,   0,  29,  21],\n",
       "       [  8,  56, 247, 209,  41,   1,  24,  13,  21,  49],\n",
       "       [  9,   3,   8, 345,  15,   2,  12,   0,   9,  15],\n",
       "       [ 25,  66,  42, 301, 137,   0,   7,  14,   4,  17],\n",
       "       [  0,   0,   1,   7,   2,  22,   2,  21,   1,   3],\n",
       "       [  0,   0,   0,  40,   2,   0,  54,   7,   0,   8],\n",
       "       [  0,   0,   3,   2,   0,   0,  27,  38,   2,   8],\n",
       "       [  0,   1,   2,  22,   0,   0,  13,  26,  73,  13],\n",
       "       [  0,   3,   1,   3,   0,   0,   8,   9,   5,  54]], dtype=int64)"
      ]
     },
     "execution_count": 200,
     "metadata": {},
     "output_type": "execute_result"
    }
   ],
   "source": [
    "cm1 = confusion_matrix(y_test, y_pred)\n",
    "cm1"
   ]
  },
  {
   "cell_type": "code",
   "execution_count": 201,
   "id": "daf3a493",
   "metadata": {},
   "outputs": [
    {
     "data": {
      "text/plain": [
       "Text(95.72222222222221, 0.5, 'Predicted')"
      ]
     },
     "execution_count": 201,
     "metadata": {},
     "output_type": "execute_result"
    },
    {
     "data": {
      "image/png": "[encoded data removed]",
      "text/plain": [
       "<Figure size 1000x700 with 2 Axes>"
      ]
     },
     "metadata": {},
     "output_type": "display_data"
    }
   ],
   "source": [
    "plt.figure(figsize=(10,7))\n",
    "sns.heatmap(cm1, annot=True)\n",
    "plt.xlabel('Truth')\n",
    "plt.ylabel('Predicted')"
   ]
  },
  {
   "cell_type": "code",
   "execution_count": 202,
   "id": "21366cbd",
   "metadata": {},
   "outputs": [],
   "source": [
    "n_classes = 10  # Number of classes\n",
    "y_true = label_binarize(y_test, classes=[0, 1, 2, 3, 4, 5, 6, 7, 8, 9])  # One-hot encoding of true labels\n",
    "y_scores = np.random.rand(len(y_pred1), n_classes)  # predicted probabilities"
   ]
  },
  {
   "cell_type": "code",
   "execution_count": 203,
   "id": "89bf7f6c",
   "metadata": {},
   "outputs": [],
   "source": [
    "fpr = dict()\n",
    "tpr = dict()\n",
    "roc_auc = dict()\n",
    "\n",
    "for i in range(n_classes):\n",
    "    fpr[i], tpr[i], _ = roc_curve(y_true[:, i], y_scores[:, i])\n",
    "    roc_auc[i] = auc(fpr[i], tpr[i])"
   ]
  },
  {
   "cell_type": "code",
   "execution_count": 204,
   "id": "e4f78bb1",
   "metadata": {},
   "outputs": [],
   "source": [
    "fpr[\"micro\"], tpr[\"micro\"], _ = roc_curve(y_true.ravel(), y_scores.ravel())\n",
    "roc_auc[\"micro\"] = auc(fpr[\"micro\"], tpr[\"micro\"])"
   ]
  },
  {
   "cell_type": "code",
   "execution_count": 205,
   "id": "2061351c",
   "metadata": {},
   "outputs": [
    {
     "data": {
      "image/png": "[encoded data removed]",
      "text/plain": [
       "<Figure size 800x600 with 1 Axes>"
      ]
     },
     "metadata": {},
     "output_type": "display_data"
    }
   ],
   "source": [
    "plt.figure(figsize=(8, 6))\n",
    "colors = ['aqua', 'darkorange', 'cornflowerblue', 'red', 'green', 'purple', 'magenta', 'lime', 'blue', 'cyan']\n",
    "\n",
    "for i, color in zip(range(n_classes), colors):\n",
    "    plt.plot(fpr[i], tpr[i], color=color, lw=2, label=f'ROC curve (AUC = {roc_auc[i]:.2f}) for Class {i}')\n",
    "\n",
    "plt.plot(fpr[\"micro\"], tpr[\"micro\"], color='deeppink', linestyle=':', linewidth=4, label='Micro-average ROC curve (AUC = {0:0.2f})'.format(roc_auc[\"micro\"]))\n",
    "\n",
    "plt.plot([0, 1], [0, 1], 'k--', lw=2)\n",
    "plt.xlim([0.0, 1.0])\n",
    "plt.ylim([0.0, 1.05])\n",
    "plt.xlabel('False Positive Rate')\n",
    "plt.ylabel('True Positive Rate')\n",
    "plt.title('ROC Curve for Naive Bayes')\n",
    "plt.legend(loc='lower right')\n",
    "plt.show()"
   ]
  },
  {
   "cell_type": "code",
   "execution_count": 206,
   "id": "79ef11fd",
   "metadata": {},
   "outputs": [],
   "source": [
    "data1 = pd.read_csv(\"subset_1.csv\") #contains 5 top features for each of 10 classes: 5*10 = 50 features\n",
    "data2 = pd.read_csv(\"subset_2.csv\") #contains 10 top features for each of 10 classes: 10*10 = 100 features \n",
    "data3 = pd.read_csv(\"subset_3.csv\") #contains 20 top features for each of 10 classes: 10*3 = 200 features"
   ]
  },
  {
   "cell_type": "code",
   "execution_count": 207,
   "id": "cf20c017",
   "metadata": {},
   "outputs": [
    {
     "data": {
      "text/html": [
       "<div>\n",
       "<style scoped>\n",
       "    .dataframe tbody tr th:only-of-type {\n",
       "        vertical-align: middle;\n",
       "    }\n",
       "\n",
       "    .dataframe tbody tr th {\n",
       "        vertical-align: top;\n",
       "    }\n",
       "\n",
       "    .dataframe thead th {\n",
       "        text-align: right;\n",
       "    }\n",
       "</style>\n",
       "<table border=\"1\" class=\"dataframe\">\n",
       "  <thead>\n",
       "    <tr style=\"text-align: right;\">\n",
       "      <th></th>\n",
       "      <th>2261</th>\n",
       "      <th>2262</th>\n",
       "      <th>2263</th>\n",
       "      <th>2213</th>\n",
       "      <th>2260</th>\n",
       "      <th>1073</th>\n",
       "      <th>1121</th>\n",
       "      <th>1120</th>\n",
       "      <th>1074</th>\n",
       "      <th>1072</th>\n",
       "      <th>...</th>\n",
       "      <th>1695</th>\n",
       "      <th>1694</th>\n",
       "      <th>1714</th>\n",
       "      <th>1715</th>\n",
       "      <th>1666</th>\n",
       "      <th>608</th>\n",
       "      <th>560</th>\n",
       "      <th>509</th>\n",
       "      <th>510</th>\n",
       "      <th>508</th>\n",
       "    </tr>\n",
       "  </thead>\n",
       "  <tbody>\n",
       "    <tr>\n",
       "      <th>0</th>\n",
       "      <td>0.282353</td>\n",
       "      <td>0.278431</td>\n",
       "      <td>0.266667</td>\n",
       "      <td>0.286275</td>\n",
       "      <td>0.286275</td>\n",
       "      <td>0.682353</td>\n",
       "      <td>0.772549</td>\n",
       "      <td>0.811765</td>\n",
       "      <td>0.639216</td>\n",
       "      <td>0.721569</td>\n",
       "      <td>...</td>\n",
       "      <td>0.431373</td>\n",
       "      <td>0.411765</td>\n",
       "      <td>0.388235</td>\n",
       "      <td>0.372549</td>\n",
       "      <td>0.400000</td>\n",
       "      <td>0.415686</td>\n",
       "      <td>0.431373</td>\n",
       "      <td>0.458824</td>\n",
       "      <td>0.419608</td>\n",
       "      <td>0.474510</td>\n",
       "    </tr>\n",
       "    <tr>\n",
       "      <th>1</th>\n",
       "      <td>0.333333</td>\n",
       "      <td>0.298039</td>\n",
       "      <td>0.274510</td>\n",
       "      <td>0.349020</td>\n",
       "      <td>0.356863</td>\n",
       "      <td>0.752941</td>\n",
       "      <td>0.796078</td>\n",
       "      <td>0.717647</td>\n",
       "      <td>0.764706</td>\n",
       "      <td>0.662745</td>\n",
       "      <td>...</td>\n",
       "      <td>0.388235</td>\n",
       "      <td>0.392157</td>\n",
       "      <td>0.462745</td>\n",
       "      <td>0.435294</td>\n",
       "      <td>0.388235</td>\n",
       "      <td>0.462745</td>\n",
       "      <td>0.501961</td>\n",
       "      <td>0.474510</td>\n",
       "      <td>0.541176</td>\n",
       "      <td>0.549020</td>\n",
       "    </tr>\n",
       "    <tr>\n",
       "      <th>2</th>\n",
       "      <td>0.317647</td>\n",
       "      <td>0.278431</td>\n",
       "      <td>0.258824</td>\n",
       "      <td>0.360784</td>\n",
       "      <td>0.352941</td>\n",
       "      <td>0.749020</td>\n",
       "      <td>0.811765</td>\n",
       "      <td>0.827451</td>\n",
       "      <td>0.701961</td>\n",
       "      <td>0.768627</td>\n",
       "      <td>...</td>\n",
       "      <td>0.419608</td>\n",
       "      <td>0.427451</td>\n",
       "      <td>0.478431</td>\n",
       "      <td>0.447059</td>\n",
       "      <td>0.396078</td>\n",
       "      <td>0.466667</td>\n",
       "      <td>0.494118</td>\n",
       "      <td>0.537255</td>\n",
       "      <td>0.549020</td>\n",
       "      <td>0.529412</td>\n",
       "    </tr>\n",
       "    <tr>\n",
       "      <th>3</th>\n",
       "      <td>0.360784</td>\n",
       "      <td>0.317647</td>\n",
       "      <td>0.282353</td>\n",
       "      <td>0.392157</td>\n",
       "      <td>0.337255</td>\n",
       "      <td>0.800000</td>\n",
       "      <td>0.854902</td>\n",
       "      <td>0.890196</td>\n",
       "      <td>0.811765</td>\n",
       "      <td>0.835294</td>\n",
       "      <td>...</td>\n",
       "      <td>0.431373</td>\n",
       "      <td>0.435294</td>\n",
       "      <td>0.486275</td>\n",
       "      <td>0.454902</td>\n",
       "      <td>0.443137</td>\n",
       "      <td>0.454902</td>\n",
       "      <td>0.494118</td>\n",
       "      <td>0.439216</td>\n",
       "      <td>0.486275</td>\n",
       "      <td>0.392157</td>\n",
       "    </tr>\n",
       "    <tr>\n",
       "      <th>4</th>\n",
       "      <td>0.494118</td>\n",
       "      <td>0.498039</td>\n",
       "      <td>0.501961</td>\n",
       "      <td>0.541176</td>\n",
       "      <td>0.482353</td>\n",
       "      <td>0.635294</td>\n",
       "      <td>0.666667</td>\n",
       "      <td>0.698039</td>\n",
       "      <td>0.588235</td>\n",
       "      <td>0.639216</td>\n",
       "      <td>...</td>\n",
       "      <td>0.309804</td>\n",
       "      <td>0.364706</td>\n",
       "      <td>0.341176</td>\n",
       "      <td>0.317647</td>\n",
       "      <td>0.407843</td>\n",
       "      <td>0.470588</td>\n",
       "      <td>0.454902</td>\n",
       "      <td>0.419608</td>\n",
       "      <td>0.411765</td>\n",
       "      <td>0.411765</td>\n",
       "    </tr>\n",
       "  </tbody>\n",
       "</table>\n",
       "<p>5 rows × 46 columns</p>\n",
       "</div>"
      ],
      "text/plain": [
       "       2261      2262      2263      2213      2260      1073      1121  \\\n",
       "0  0.282353  0.278431  0.266667  0.286275  0.286275  0.682353  0.772549   \n",
       "1  0.333333  0.298039  0.274510  0.349020  0.356863  0.752941  0.796078   \n",
       "2  0.317647  0.278431  0.258824  0.360784  0.352941  0.749020  0.811765   \n",
       "3  0.360784  0.317647  0.282353  0.392157  0.337255  0.800000  0.854902   \n",
       "4  0.494118  0.498039  0.501961  0.541176  0.482353  0.635294  0.666667   \n",
       "\n",
       "       1120      1074      1072  ...      1695      1694      1714      1715  \\\n",
       "0  0.811765  0.639216  0.721569  ...  0.431373  0.411765  0.388235  0.372549   \n",
       "1  0.717647  0.764706  0.662745  ...  0.388235  0.392157  0.462745  0.435294   \n",
       "2  0.827451  0.701961  0.768627  ...  0.419608  0.427451  0.478431  0.447059   \n",
       "3  0.890196  0.811765  0.835294  ...  0.431373  0.435294  0.486275  0.454902   \n",
       "4  0.698039  0.588235  0.639216  ...  0.309804  0.364706  0.341176  0.317647   \n",
       "\n",
       "       1666       608       560       509       510       508  \n",
       "0  0.400000  0.415686  0.431373  0.458824  0.419608  0.474510  \n",
       "1  0.388235  0.462745  0.501961  0.474510  0.541176  0.549020  \n",
       "2  0.396078  0.466667  0.494118  0.537255  0.549020  0.529412  \n",
       "3  0.443137  0.454902  0.494118  0.439216  0.486275  0.392157  \n",
       "4  0.407843  0.470588  0.454902  0.419608  0.411765  0.411765  \n",
       "\n",
       "[5 rows x 46 columns]"
      ]
     },
     "execution_count": 207,
     "metadata": {},
     "output_type": "execute_result"
    }
   ],
   "source": [
    "data1.head()"
   ]
  },
  {
   "cell_type": "code",
   "execution_count": 208,
   "id": "e28aac2e",
   "metadata": {},
   "outputs": [
    {
     "data": {
      "text/plain": [
       "(9690, 46)"
      ]
     },
     "execution_count": 208,
     "metadata": {},
     "output_type": "execute_result"
    }
   ],
   "source": [
    "data1.shape"
   ]
  },
  {
   "cell_type": "code",
   "execution_count": 209,
   "id": "d67bfe98",
   "metadata": {},
   "outputs": [
    {
     "data": {
      "text/plain": [
       "(9690, 85)"
      ]
     },
     "execution_count": 209,
     "metadata": {},
     "output_type": "execute_result"
    }
   ],
   "source": [
    "data2.shape"
   ]
  },
  {
   "cell_type": "code",
   "execution_count": 210,
   "id": "aa24ee92",
   "metadata": {},
   "outputs": [
    {
     "data": {
      "text/plain": [
       "(9690, 158)"
      ]
     },
     "execution_count": 210,
     "metadata": {},
     "output_type": "execute_result"
    }
   ],
   "source": [
    "data3.shape"
   ]
  },
  {
   "cell_type": "code",
   "execution_count": 211,
   "id": "bed20f87",
   "metadata": {},
   "outputs": [
    {
     "data": {
      "text/plain": [
       "(9690, 1)"
      ]
     },
     "execution_count": 211,
     "metadata": {},
     "output_type": "execute_result"
    }
   ],
   "source": [
    "data_train.shape"
   ]
  },
  {
   "cell_type": "code",
   "execution_count": 212,
   "id": "b76f2c04",
   "metadata": {},
   "outputs": [],
   "source": [
    "# Splitting the data into Train and Test\n",
    "X_train, X_test, y_train, y_test = train_test_split(data1, data_train, test_size = 0.3, random_state = 0)"
   ]
  },
  {
   "cell_type": "code",
   "execution_count": 213,
   "id": "89ea3d73",
   "metadata": {},
   "outputs": [
    {
     "name": "stdout",
     "output_type": "stream",
     "text": [
      "              precision    recall  f1-score   support\n",
      "\n",
      "           0       0.20      0.60      0.30        65\n",
      "           1       0.67      0.27      0.39       650\n",
      "           2       0.63      0.36      0.46       676\n",
      "           3       0.31      0.75      0.44       426\n",
      "           4       0.54      0.24      0.33       587\n",
      "           5       0.78      0.49      0.60        74\n",
      "           6       0.20      0.40      0.27       114\n",
      "           7       0.32      0.44      0.37        71\n",
      "           8       0.38      0.40      0.39       176\n",
      "           9       0.22      0.65      0.33        68\n",
      "\n",
      "    accuracy                           0.40      2907\n",
      "   macro avg       0.43      0.46      0.39      2907\n",
      "weighted avg       0.52      0.40      0.40      2907\n",
      "\n",
      "accuracy is 0.3955968352253182\n"
     ]
    }
   ],
   "source": [
    "# Naive Bayes 1\n",
    "from sklearn.naive_bayes import GaussianNB\n",
    "Model = GaussianNB()\n",
    "Model.fit(X_train, y_train)\n",
    "\n",
    "y_pred2 = Model.predict(X_test)\n",
    "\n",
    "# Summary of the predictions made by the classifier\n",
    "print(classification_report(y_test, y_pred2))\n",
    "# Accuracy score\n",
    "print('accuracy is',accuracy_score(y_pred2,y_test))"
   ]
  },
  {
   "cell_type": "code",
   "execution_count": 214,
   "id": "6ec0c721",
   "metadata": {},
   "outputs": [
    {
     "data": {
      "text/plain": [
       "array([[ 39,   9,   2,   5,   5,   0,   0,   0,   3,   2],\n",
       "       [118, 178,  58, 169,  50,   1,  21,   0,  35,  20],\n",
       "       [ 14,  29, 245, 189,  44,   2,  51,   7,  45,  50],\n",
       "       [  7,   1,  17, 321,   9,   0,  36,   1,  10,  24],\n",
       "       [ 14,  45,  61, 285, 140,   0,  10,   2,  12,  18],\n",
       "       [  0,   0,   1,  11,   7,  36,   6,   5,   6,   2],\n",
       "       [  0,   2,   0,  43,   3,   0,  46,  10,   2,   8],\n",
       "       [  0,   0,   2,   1,   0,   0,  27,  31,   0,  10],\n",
       "       [  2,   0,   2,  23,   0,   7,  18,  33,  70,  21],\n",
       "       [  0,   0,   0,   2,   1,   0,  12,   7,   2,  44]], dtype=int64)"
      ]
     },
     "execution_count": 214,
     "metadata": {},
     "output_type": "execute_result"
    }
   ],
   "source": [
    "cm2 = confusion_matrix(y_test, y_pred2)\n",
    "cm2"
   ]
  },
  {
   "cell_type": "code",
   "execution_count": 215,
   "id": "f5a672a6",
   "metadata": {},
   "outputs": [],
   "source": [
    "# Splitting the data into Train and Test\n",
    "X_train, X_test, y_train, y_test = train_test_split(data2, data_train, test_size = 0.3, random_state = 1)"
   ]
  },
  {
   "cell_type": "code",
   "execution_count": 216,
   "id": "1f28b235",
   "metadata": {},
   "outputs": [
    {
     "name": "stdout",
     "output_type": "stream",
     "text": [
      "              precision    recall  f1-score   support\n",
      "\n",
      "           0       0.20      0.71      0.31        55\n",
      "           1       0.60      0.31      0.41       669\n",
      "           2       0.68      0.37      0.48       669\n",
      "           3       0.31      0.83      0.45       418\n",
      "           4       0.56      0.22      0.32       613\n",
      "           5       0.85      0.37      0.52        59\n",
      "           6       0.34      0.49      0.40       111\n",
      "           7       0.30      0.47      0.37        80\n",
      "           8       0.51      0.49      0.50       150\n",
      "           9       0.29      0.65      0.40        83\n",
      "\n",
      "    accuracy                           0.42      2907\n",
      "   macro avg       0.46      0.49      0.41      2907\n",
      "weighted avg       0.53      0.42      0.41      2907\n",
      "\n",
      "accuracy is 0.4176126590987272\n"
     ]
    }
   ],
   "source": [
    "# Naive Bayes 2\n",
    "from sklearn.naive_bayes import GaussianNB\n",
    "Model = GaussianNB()\n",
    "Model.fit(X_train, y_train)\n",
    "\n",
    "y_pred3 = Model.predict(X_test)\n",
    "\n",
    "# Summary of the predictions made by the classifier\n",
    "print(classification_report(y_test, y_pred3))\n",
    "# Accuracy score\n",
    "print('accuracy is',accuracy_score(y_pred3,y_test))"
   ]
  },
  {
   "cell_type": "code",
   "execution_count": 217,
   "id": "a4dd5770",
   "metadata": {},
   "outputs": [
    {
     "data": {
      "text/plain": [
       "array([[ 39,   6,   1,   6,   2,   0,   0,   0,   0,   1],\n",
       "       [116, 205,  60, 181,  44,   1,  12,   0,  29,  21],\n",
       "       [  8,  56, 247, 209,  41,   1,  24,  13,  21,  49],\n",
       "       [  9,   3,   8, 345,  15,   2,  12,   0,   9,  15],\n",
       "       [ 25,  66,  42, 301, 137,   0,   7,  14,   4,  17],\n",
       "       [  0,   0,   1,   7,   2,  22,   2,  21,   1,   3],\n",
       "       [  0,   0,   0,  40,   2,   0,  54,   7,   0,   8],\n",
       "       [  0,   0,   3,   2,   0,   0,  27,  38,   2,   8],\n",
       "       [  0,   1,   2,  22,   0,   0,  13,  26,  73,  13],\n",
       "       [  0,   3,   1,   3,   0,   0,   8,   9,   5,  54]], dtype=int64)"
      ]
     },
     "execution_count": 217,
     "metadata": {},
     "output_type": "execute_result"
    }
   ],
   "source": [
    "cm3 = confusion_matrix(y_test, y_pred)\n",
    "cm3"
   ]
  },
  {
   "cell_type": "code",
   "execution_count": 218,
   "id": "be9ee88e",
   "metadata": {},
   "outputs": [],
   "source": [
    "# Splitting the data into Train and Test\n",
    "X_train, X_test, y_train, y_test = train_test_split(data3, data_train, test_size = 0.3, random_state = 0)"
   ]
  },
  {
   "cell_type": "code",
   "execution_count": 219,
   "id": "91d8e6d9",
   "metadata": {},
   "outputs": [
    {
     "name": "stdout",
     "output_type": "stream",
     "text": [
      "              precision    recall  f1-score   support\n",
      "\n",
      "           0       0.19      0.72      0.31        65\n",
      "           1       0.55      0.28      0.37       650\n",
      "           2       0.59      0.34      0.43       676\n",
      "           3       0.33      0.71      0.45       426\n",
      "           4       0.46      0.22      0.30       587\n",
      "           5       0.82      0.24      0.38        74\n",
      "           6       0.20      0.52      0.29       114\n",
      "           7       0.20      0.45      0.28        71\n",
      "           8       0.54      0.40      0.46       176\n",
      "           9       0.25      0.50      0.33        68\n",
      "\n",
      "    accuracy                           0.38      2907\n",
      "   macro avg       0.41      0.44      0.36      2907\n",
      "weighted avg       0.48      0.38      0.38      2907\n",
      "\n",
      "accuracy is 0.38011695906432746\n"
     ]
    }
   ],
   "source": [
    "# Naive Bayes on dataset3\n",
    "from sklearn.naive_bayes import GaussianNB\n",
    "Model = GaussianNB()\n",
    "Model.fit(X_train, y_train)\n",
    "\n",
    "y_pred4 = Model.predict(X_test)\n",
    "\n",
    "# Summary of the predictions made by the classifier\n",
    "print(classification_report(y_test, y_pred4))\n",
    "# Accuracy score\n",
    "print('accuracy is',accuracy_score(y_pred4,y_test))"
   ]
  },
  {
   "cell_type": "code",
   "execution_count": 220,
   "id": "d9078b10",
   "metadata": {},
   "outputs": [
    {
     "data": {
      "text/plain": [
       "array([[ 47,   4,   3,   2,   6,   0,   0,   0,   0,   3],\n",
       "       [134, 181,  93, 122,  48,   0,  41,   0,  21,  10],\n",
       "       [ 19,  71, 229, 173,  81,   1,  39,  14,  11,  38],\n",
       "       [ 13,   2,  14, 303,  18,   0,  47,   2,  15,  12],\n",
       "       [ 28,  67,  42, 265, 132,   0,  24,  11,   3,  15],\n",
       "       [  0,   0,   0,  11,   0,  18,   9,  30,   6,   0],\n",
       "       [  0,   3,   0,  27,   0,   0,  59,  13,   2,  10],\n",
       "       [  0,   0,   3,   3,   0,   0,  31,  32,   0,   2],\n",
       "       [  1,   1,   2,   8,   0,   3,  35,  44,  70,  12],\n",
       "       [  0,   0,   0,   3,   0,   0,  14,  15,   2,  34]], dtype=int64)"
      ]
     },
     "execution_count": 220,
     "metadata": {},
     "output_type": "execute_result"
    }
   ],
   "source": [
    "cm = confusion_matrix(y_test, y_pred4)\n",
    "cm"
   ]
  }
 ],
 "metadata": {
  "kernelspec": {
   "display_name": "Python 3 (ipykernel)",
   "language": "python",
   "name": "python3"
  },
  "language_info": {
   "codemirror_mode": {
    "name": "ipython",
    "version": 3
   },
   "file_extension": ".py",
   "mimetype": "text/x-python",
   "name": "python",
   "nbconvert_exporter": "python",
   "pygments_lexer": "ipython3",
   "version": "3.11.5"
  }
 },
 "nbformat": 4,
 "nbformat_minor": 5
}
