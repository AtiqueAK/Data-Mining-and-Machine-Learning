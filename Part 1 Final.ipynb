{
 "cells": [
  {
   "cell_type": "markdown",
   "id": "360f2ef2",
   "metadata": {},
   "source": [
    "# Part 1 - Data Analysis and Bayes Nets"
   ]
  },
  {
   "cell_type": "code",
   "execution_count": 45,
   "id": "736a655e",
   "metadata": {},
   "outputs": [],
   "source": [
    "# Import core libararies\n",
    "import pandas as pd\n",
    "import numpy as np\n",
    "import cv2 \n",
    "\n",
    "# Import Scikit-Learn\n",
    "import sklearn\n",
    "\n",
    "# Import plotting library\n",
    "%matplotlib inline\n",
    "import matplotlib as mpl\n",
    "import matplotlib.pyplot as plt\n",
    "import seaborn as sns\n",
    "\n",
    "# Import libraries for prediction and data handing\n",
    "from sklearn.model_selection import train_test_split\n",
    "from sklearn.metrics import classification_report\n",
    "from sklearn.metrics import accuracy_score\n",
    "from sklearn.metrics import confusion_matrix\n",
    "from sklearn.metrics import roc_curve, auc\n",
    "from sklearn.preprocessing import label_binarize\n",
    "from itertools import cycle\n",
    "from sklearn.metrics import roc_auc_score\n",
    "\n",
    "#Import Warnings\n",
    "import warnings\n",
    "warnings.filterwarnings('ignore')"
   ]
  },
  {
   "cell_type": "code",
   "execution_count": 46,
   "id": "a0d30496",
   "metadata": {},
   "outputs": [],
   "source": [
    "# Read the training data CSV file\n",
    "data = pd.read_csv(\"x_train_all.csv\")"
   ]
  },
  {
   "cell_type": "code",
   "execution_count": 47,
   "id": "afa9d74d",
   "metadata": {},
   "outputs": [
    {
     "data": {
      "text/plain": [
       "(9690, 2304)"
      ]
     },
     "execution_count": 47,
     "metadata": {},
     "output_type": "execute_result"
    }
   ],
   "source": [
    "# Print the dimensions of the data\n",
    "data.shape"
   ]
  },
  {
   "cell_type": "code",
   "execution_count": 48,
   "id": "4fb1bc8a",
   "metadata": {},
   "outputs": [
    {
     "name": "stdout",
     "output_type": "stream",
     "text": [
      "<class 'pandas.core.frame.DataFrame'>\n",
      "RangeIndex: 9690 entries, 0 to 9689\n",
      "Columns: 2304 entries, 0 to 2303\n",
      "dtypes: float64(2304)\n",
      "memory usage: 170.3 MB\n"
     ]
    }
   ],
   "source": [
    "# Print basic info about the data\n",
    "data.info()"
   ]
  },
  {
   "cell_type": "code",
   "execution_count": 49,
   "id": "25d30af6",
   "metadata": {},
   "outputs": [
    {
     "data": {
      "text/html": [
       "<div>\n",
       "<style scoped>\n",
       "    .dataframe tbody tr th:only-of-type {\n",
       "        vertical-align: middle;\n",
       "    }\n",
       "\n",
       "    .dataframe tbody tr th {\n",
       "        vertical-align: top;\n",
       "    }\n",
       "\n",
       "    .dataframe thead th {\n",
       "        text-align: right;\n",
       "    }\n",
       "</style>\n",
       "<table border=\"1\" class=\"dataframe\">\n",
       "  <thead>\n",
       "    <tr style=\"text-align: right;\">\n",
       "      <th></th>\n",
       "      <th>0</th>\n",
       "      <th>1</th>\n",
       "      <th>2</th>\n",
       "      <th>3</th>\n",
       "      <th>4</th>\n",
       "      <th>5</th>\n",
       "      <th>6</th>\n",
       "      <th>7</th>\n",
       "      <th>8</th>\n",
       "      <th>9</th>\n",
       "      <th>...</th>\n",
       "      <th>2294</th>\n",
       "      <th>2295</th>\n",
       "      <th>2296</th>\n",
       "      <th>2297</th>\n",
       "      <th>2298</th>\n",
       "      <th>2299</th>\n",
       "      <th>2300</th>\n",
       "      <th>2301</th>\n",
       "      <th>2302</th>\n",
       "      <th>2303</th>\n",
       "    </tr>\n",
       "  </thead>\n",
       "  <tbody>\n",
       "    <tr>\n",
       "      <th>0</th>\n",
       "      <td>78.0</td>\n",
       "      <td>77.0</td>\n",
       "      <td>76.0</td>\n",
       "      <td>82.0</td>\n",
       "      <td>87.0</td>\n",
       "      <td>92.0</td>\n",
       "      <td>104.0</td>\n",
       "      <td>119.0</td>\n",
       "      <td>117.0</td>\n",
       "      <td>120.0</td>\n",
       "      <td>...</td>\n",
       "      <td>87.0</td>\n",
       "      <td>79.0</td>\n",
       "      <td>72.0</td>\n",
       "      <td>76.0</td>\n",
       "      <td>83.0</td>\n",
       "      <td>95.0</td>\n",
       "      <td>99.0</td>\n",
       "      <td>98.0</td>\n",
       "      <td>95.0</td>\n",
       "      <td>94.0</td>\n",
       "    </tr>\n",
       "    <tr>\n",
       "      <th>1</th>\n",
       "      <td>73.0</td>\n",
       "      <td>75.0</td>\n",
       "      <td>79.0</td>\n",
       "      <td>78.0</td>\n",
       "      <td>76.0</td>\n",
       "      <td>75.0</td>\n",
       "      <td>89.0</td>\n",
       "      <td>107.0</td>\n",
       "      <td>133.0</td>\n",
       "      <td>125.0</td>\n",
       "      <td>...</td>\n",
       "      <td>96.0</td>\n",
       "      <td>93.0</td>\n",
       "      <td>85.0</td>\n",
       "      <td>77.0</td>\n",
       "      <td>69.0</td>\n",
       "      <td>73.0</td>\n",
       "      <td>83.0</td>\n",
       "      <td>100.0</td>\n",
       "      <td>101.0</td>\n",
       "      <td>101.0</td>\n",
       "    </tr>\n",
       "    <tr>\n",
       "      <th>2</th>\n",
       "      <td>72.0</td>\n",
       "      <td>75.0</td>\n",
       "      <td>79.0</td>\n",
       "      <td>77.0</td>\n",
       "      <td>81.0</td>\n",
       "      <td>89.0</td>\n",
       "      <td>105.0</td>\n",
       "      <td>109.0</td>\n",
       "      <td>86.0</td>\n",
       "      <td>90.0</td>\n",
       "      <td>...</td>\n",
       "      <td>98.0</td>\n",
       "      <td>95.0</td>\n",
       "      <td>88.0</td>\n",
       "      <td>80.0</td>\n",
       "      <td>73.0</td>\n",
       "      <td>71.0</td>\n",
       "      <td>74.0</td>\n",
       "      <td>80.0</td>\n",
       "      <td>89.0</td>\n",
       "      <td>95.0</td>\n",
       "    </tr>\n",
       "    <tr>\n",
       "      <th>3</th>\n",
       "      <td>67.0</td>\n",
       "      <td>70.0</td>\n",
       "      <td>74.0</td>\n",
       "      <td>80.0</td>\n",
       "      <td>93.0</td>\n",
       "      <td>107.0</td>\n",
       "      <td>110.0</td>\n",
       "      <td>96.0</td>\n",
       "      <td>69.0</td>\n",
       "      <td>100.0</td>\n",
       "      <td>...</td>\n",
       "      <td>112.0</td>\n",
       "      <td>92.0</td>\n",
       "      <td>87.0</td>\n",
       "      <td>82.0</td>\n",
       "      <td>77.0</td>\n",
       "      <td>72.0</td>\n",
       "      <td>70.0</td>\n",
       "      <td>72.0</td>\n",
       "      <td>81.0</td>\n",
       "      <td>88.0</td>\n",
       "    </tr>\n",
       "    <tr>\n",
       "      <th>4</th>\n",
       "      <td>74.0</td>\n",
       "      <td>74.0</td>\n",
       "      <td>73.0</td>\n",
       "      <td>72.0</td>\n",
       "      <td>77.0</td>\n",
       "      <td>87.0</td>\n",
       "      <td>104.0</td>\n",
       "      <td>109.0</td>\n",
       "      <td>84.0</td>\n",
       "      <td>83.0</td>\n",
       "      <td>...</td>\n",
       "      <td>100.0</td>\n",
       "      <td>98.0</td>\n",
       "      <td>99.0</td>\n",
       "      <td>100.0</td>\n",
       "      <td>99.0</td>\n",
       "      <td>89.0</td>\n",
       "      <td>78.0</td>\n",
       "      <td>66.0</td>\n",
       "      <td>68.0</td>\n",
       "      <td>72.0</td>\n",
       "    </tr>\n",
       "  </tbody>\n",
       "</table>\n",
       "<p>5 rows × 2304 columns</p>\n",
       "</div>"
      ],
      "text/plain": [
       "      0     1     2     3     4      5      6      7      8      9  ...  \\\n",
       "0  78.0  77.0  76.0  82.0  87.0   92.0  104.0  119.0  117.0  120.0  ...   \n",
       "1  73.0  75.0  79.0  78.0  76.0   75.0   89.0  107.0  133.0  125.0  ...   \n",
       "2  72.0  75.0  79.0  77.0  81.0   89.0  105.0  109.0   86.0   90.0  ...   \n",
       "3  67.0  70.0  74.0  80.0  93.0  107.0  110.0   96.0   69.0  100.0  ...   \n",
       "4  74.0  74.0  73.0  72.0  77.0   87.0  104.0  109.0   84.0   83.0  ...   \n",
       "\n",
       "    2294  2295  2296   2297  2298  2299  2300   2301   2302   2303  \n",
       "0   87.0  79.0  72.0   76.0  83.0  95.0  99.0   98.0   95.0   94.0  \n",
       "1   96.0  93.0  85.0   77.0  69.0  73.0  83.0  100.0  101.0  101.0  \n",
       "2   98.0  95.0  88.0   80.0  73.0  71.0  74.0   80.0   89.0   95.0  \n",
       "3  112.0  92.0  87.0   82.0  77.0  72.0  70.0   72.0   81.0   88.0  \n",
       "4  100.0  98.0  99.0  100.0  99.0  89.0  78.0   66.0   68.0   72.0  \n",
       "\n",
       "[5 rows x 2304 columns]"
      ]
     },
     "execution_count": 49,
     "metadata": {},
     "output_type": "execute_result"
    }
   ],
   "source": [
    "# Display the first 5 rows of data\n",
    "data.head()"
   ]
  },
  {
   "cell_type": "code",
   "execution_count": 50,
   "id": "81c28fac",
   "metadata": {},
   "outputs": [
    {
     "data": {
      "text/html": [
       "<div>\n",
       "<style scoped>\n",
       "    .dataframe tbody tr th:only-of-type {\n",
       "        vertical-align: middle;\n",
       "    }\n",
       "\n",
       "    .dataframe tbody tr th {\n",
       "        vertical-align: top;\n",
       "    }\n",
       "\n",
       "    .dataframe thead th {\n",
       "        text-align: right;\n",
       "    }\n",
       "</style>\n",
       "<table border=\"1\" class=\"dataframe\">\n",
       "  <thead>\n",
       "    <tr style=\"text-align: right;\">\n",
       "      <th></th>\n",
       "      <th>0</th>\n",
       "      <th>1</th>\n",
       "      <th>2</th>\n",
       "      <th>3</th>\n",
       "      <th>4</th>\n",
       "      <th>5</th>\n",
       "      <th>6</th>\n",
       "      <th>7</th>\n",
       "      <th>8</th>\n",
       "      <th>9</th>\n",
       "      <th>...</th>\n",
       "      <th>2294</th>\n",
       "      <th>2295</th>\n",
       "      <th>2296</th>\n",
       "      <th>2297</th>\n",
       "      <th>2298</th>\n",
       "      <th>2299</th>\n",
       "      <th>2300</th>\n",
       "      <th>2301</th>\n",
       "      <th>2302</th>\n",
       "      <th>2303</th>\n",
       "    </tr>\n",
       "  </thead>\n",
       "  <tbody>\n",
       "    <tr>\n",
       "      <th>count</th>\n",
       "      <td>9690.000000</td>\n",
       "      <td>9690.000000</td>\n",
       "      <td>9690.000000</td>\n",
       "      <td>9690.000000</td>\n",
       "      <td>9690.000000</td>\n",
       "      <td>9690.000000</td>\n",
       "      <td>9690.000000</td>\n",
       "      <td>9690.000000</td>\n",
       "      <td>9690.000000</td>\n",
       "      <td>9690.000000</td>\n",
       "      <td>...</td>\n",
       "      <td>9690.000000</td>\n",
       "      <td>9690.000000</td>\n",
       "      <td>9690.000000</td>\n",
       "      <td>9690.000000</td>\n",
       "      <td>9690.000000</td>\n",
       "      <td>9690.000000</td>\n",
       "      <td>9690.00000</td>\n",
       "      <td>9690.000000</td>\n",
       "      <td>9690.000000</td>\n",
       "      <td>9690.000000</td>\n",
       "    </tr>\n",
       "    <tr>\n",
       "      <th>mean</th>\n",
       "      <td>89.658514</td>\n",
       "      <td>89.545201</td>\n",
       "      <td>89.343756</td>\n",
       "      <td>89.566770</td>\n",
       "      <td>89.812590</td>\n",
       "      <td>89.853251</td>\n",
       "      <td>89.883282</td>\n",
       "      <td>89.978431</td>\n",
       "      <td>90.170175</td>\n",
       "      <td>90.519092</td>\n",
       "      <td>...</td>\n",
       "      <td>72.234881</td>\n",
       "      <td>71.833437</td>\n",
       "      <td>71.394118</td>\n",
       "      <td>70.572136</td>\n",
       "      <td>69.660165</td>\n",
       "      <td>68.878638</td>\n",
       "      <td>68.29453</td>\n",
       "      <td>67.831889</td>\n",
       "      <td>67.548297</td>\n",
       "      <td>67.393189</td>\n",
       "    </tr>\n",
       "    <tr>\n",
       "      <th>std</th>\n",
       "      <td>77.521341</td>\n",
       "      <td>77.430539</td>\n",
       "      <td>77.350452</td>\n",
       "      <td>77.498754</td>\n",
       "      <td>77.437292</td>\n",
       "      <td>77.279125</td>\n",
       "      <td>77.085714</td>\n",
       "      <td>77.081732</td>\n",
       "      <td>77.062371</td>\n",
       "      <td>77.155644</td>\n",
       "      <td>...</td>\n",
       "      <td>65.369022</td>\n",
       "      <td>65.439225</td>\n",
       "      <td>65.402298</td>\n",
       "      <td>65.144238</td>\n",
       "      <td>64.885963</td>\n",
       "      <td>64.530366</td>\n",
       "      <td>64.27455</td>\n",
       "      <td>63.799350</td>\n",
       "      <td>63.437102</td>\n",
       "      <td>63.506304</td>\n",
       "    </tr>\n",
       "    <tr>\n",
       "      <th>min</th>\n",
       "      <td>5.000000</td>\n",
       "      <td>5.000000</td>\n",
       "      <td>4.000000</td>\n",
       "      <td>5.000000</td>\n",
       "      <td>5.000000</td>\n",
       "      <td>5.000000</td>\n",
       "      <td>5.000000</td>\n",
       "      <td>4.000000</td>\n",
       "      <td>4.000000</td>\n",
       "      <td>4.000000</td>\n",
       "      <td>...</td>\n",
       "      <td>4.000000</td>\n",
       "      <td>4.000000</td>\n",
       "      <td>4.000000</td>\n",
       "      <td>5.000000</td>\n",
       "      <td>4.000000</td>\n",
       "      <td>4.000000</td>\n",
       "      <td>4.00000</td>\n",
       "      <td>5.000000</td>\n",
       "      <td>4.000000</td>\n",
       "      <td>4.000000</td>\n",
       "    </tr>\n",
       "    <tr>\n",
       "      <th>25%</th>\n",
       "      <td>32.000000</td>\n",
       "      <td>32.000000</td>\n",
       "      <td>32.000000</td>\n",
       "      <td>31.000000</td>\n",
       "      <td>32.000000</td>\n",
       "      <td>32.000000</td>\n",
       "      <td>32.000000</td>\n",
       "      <td>33.000000</td>\n",
       "      <td>33.000000</td>\n",
       "      <td>33.000000</td>\n",
       "      <td>...</td>\n",
       "      <td>26.000000</td>\n",
       "      <td>26.000000</td>\n",
       "      <td>26.000000</td>\n",
       "      <td>26.000000</td>\n",
       "      <td>26.000000</td>\n",
       "      <td>25.000000</td>\n",
       "      <td>25.00000</td>\n",
       "      <td>25.000000</td>\n",
       "      <td>25.000000</td>\n",
       "      <td>25.000000</td>\n",
       "    </tr>\n",
       "    <tr>\n",
       "      <th>50%</th>\n",
       "      <td>57.000000</td>\n",
       "      <td>58.000000</td>\n",
       "      <td>57.000000</td>\n",
       "      <td>58.000000</td>\n",
       "      <td>58.000000</td>\n",
       "      <td>58.000000</td>\n",
       "      <td>58.000000</td>\n",
       "      <td>58.000000</td>\n",
       "      <td>59.000000</td>\n",
       "      <td>59.000000</td>\n",
       "      <td>...</td>\n",
       "      <td>46.000000</td>\n",
       "      <td>46.000000</td>\n",
       "      <td>46.000000</td>\n",
       "      <td>45.000000</td>\n",
       "      <td>45.000000</td>\n",
       "      <td>44.000000</td>\n",
       "      <td>44.00000</td>\n",
       "      <td>43.000000</td>\n",
       "      <td>43.000000</td>\n",
       "      <td>43.000000</td>\n",
       "    </tr>\n",
       "    <tr>\n",
       "      <th>75%</th>\n",
       "      <td>126.000000</td>\n",
       "      <td>124.000000</td>\n",
       "      <td>122.750000</td>\n",
       "      <td>123.000000</td>\n",
       "      <td>125.000000</td>\n",
       "      <td>123.750000</td>\n",
       "      <td>124.000000</td>\n",
       "      <td>124.000000</td>\n",
       "      <td>124.000000</td>\n",
       "      <td>126.000000</td>\n",
       "      <td>...</td>\n",
       "      <td>95.000000</td>\n",
       "      <td>93.000000</td>\n",
       "      <td>91.000000</td>\n",
       "      <td>88.000000</td>\n",
       "      <td>86.000000</td>\n",
       "      <td>84.000000</td>\n",
       "      <td>82.00000</td>\n",
       "      <td>82.000000</td>\n",
       "      <td>81.000000</td>\n",
       "      <td>81.000000</td>\n",
       "    </tr>\n",
       "    <tr>\n",
       "      <th>max</th>\n",
       "      <td>255.000000</td>\n",
       "      <td>255.000000</td>\n",
       "      <td>255.000000</td>\n",
       "      <td>255.000000</td>\n",
       "      <td>255.000000</td>\n",
       "      <td>255.000000</td>\n",
       "      <td>255.000000</td>\n",
       "      <td>255.000000</td>\n",
       "      <td>255.000000</td>\n",
       "      <td>255.000000</td>\n",
       "      <td>...</td>\n",
       "      <td>255.000000</td>\n",
       "      <td>255.000000</td>\n",
       "      <td>255.000000</td>\n",
       "      <td>255.000000</td>\n",
       "      <td>255.000000</td>\n",
       "      <td>255.000000</td>\n",
       "      <td>255.00000</td>\n",
       "      <td>255.000000</td>\n",
       "      <td>255.000000</td>\n",
       "      <td>255.000000</td>\n",
       "    </tr>\n",
       "  </tbody>\n",
       "</table>\n",
       "<p>8 rows × 2304 columns</p>\n",
       "</div>"
      ],
      "text/plain": [
       "                 0            1            2            3            4  \\\n",
       "count  9690.000000  9690.000000  9690.000000  9690.000000  9690.000000   \n",
       "mean     89.658514    89.545201    89.343756    89.566770    89.812590   \n",
       "std      77.521341    77.430539    77.350452    77.498754    77.437292   \n",
       "min       5.000000     5.000000     4.000000     5.000000     5.000000   \n",
       "25%      32.000000    32.000000    32.000000    31.000000    32.000000   \n",
       "50%      57.000000    58.000000    57.000000    58.000000    58.000000   \n",
       "75%     126.000000   124.000000   122.750000   123.000000   125.000000   \n",
       "max     255.000000   255.000000   255.000000   255.000000   255.000000   \n",
       "\n",
       "                 5            6            7            8            9  ...  \\\n",
       "count  9690.000000  9690.000000  9690.000000  9690.000000  9690.000000  ...   \n",
       "mean     89.853251    89.883282    89.978431    90.170175    90.519092  ...   \n",
       "std      77.279125    77.085714    77.081732    77.062371    77.155644  ...   \n",
       "min       5.000000     5.000000     4.000000     4.000000     4.000000  ...   \n",
       "25%      32.000000    32.000000    33.000000    33.000000    33.000000  ...   \n",
       "50%      58.000000    58.000000    58.000000    59.000000    59.000000  ...   \n",
       "75%     123.750000   124.000000   124.000000   124.000000   126.000000  ...   \n",
       "max     255.000000   255.000000   255.000000   255.000000   255.000000  ...   \n",
       "\n",
       "              2294         2295         2296         2297         2298  \\\n",
       "count  9690.000000  9690.000000  9690.000000  9690.000000  9690.000000   \n",
       "mean     72.234881    71.833437    71.394118    70.572136    69.660165   \n",
       "std      65.369022    65.439225    65.402298    65.144238    64.885963   \n",
       "min       4.000000     4.000000     4.000000     5.000000     4.000000   \n",
       "25%      26.000000    26.000000    26.000000    26.000000    26.000000   \n",
       "50%      46.000000    46.000000    46.000000    45.000000    45.000000   \n",
       "75%      95.000000    93.000000    91.000000    88.000000    86.000000   \n",
       "max     255.000000   255.000000   255.000000   255.000000   255.000000   \n",
       "\n",
       "              2299        2300         2301         2302         2303  \n",
       "count  9690.000000  9690.00000  9690.000000  9690.000000  9690.000000  \n",
       "mean     68.878638    68.29453    67.831889    67.548297    67.393189  \n",
       "std      64.530366    64.27455    63.799350    63.437102    63.506304  \n",
       "min       4.000000     4.00000     5.000000     4.000000     4.000000  \n",
       "25%      25.000000    25.00000    25.000000    25.000000    25.000000  \n",
       "50%      44.000000    44.00000    43.000000    43.000000    43.000000  \n",
       "75%      84.000000    82.00000    82.000000    81.000000    81.000000  \n",
       "max     255.000000   255.00000   255.000000   255.000000   255.000000  \n",
       "\n",
       "[8 rows x 2304 columns]"
      ]
     },
     "execution_count": 50,
     "metadata": {},
     "output_type": "execute_result"
    }
   ],
   "source": [
    "# Print some statistical description\n",
    "data.describe()"
   ]
  },
  {
   "cell_type": "code",
   "execution_count": 51,
   "id": "ce76f639",
   "metadata": {},
   "outputs": [
    {
     "data": {
      "text/html": [
       "<div>\n",
       "<style scoped>\n",
       "    .dataframe tbody tr th:only-of-type {\n",
       "        vertical-align: middle;\n",
       "    }\n",
       "\n",
       "    .dataframe tbody tr th {\n",
       "        vertical-align: top;\n",
       "    }\n",
       "\n",
       "    .dataframe thead th {\n",
       "        text-align: right;\n",
       "    }\n",
       "</style>\n",
       "<table border=\"1\" class=\"dataframe\">\n",
       "  <thead>\n",
       "    <tr style=\"text-align: right;\">\n",
       "      <th></th>\n",
       "      <th>0</th>\n",
       "      <th>1</th>\n",
       "      <th>2</th>\n",
       "      <th>3</th>\n",
       "      <th>4</th>\n",
       "      <th>5</th>\n",
       "      <th>6</th>\n",
       "      <th>7</th>\n",
       "      <th>8</th>\n",
       "      <th>9</th>\n",
       "      <th>...</th>\n",
       "      <th>2294</th>\n",
       "      <th>2295</th>\n",
       "      <th>2296</th>\n",
       "      <th>2297</th>\n",
       "      <th>2298</th>\n",
       "      <th>2299</th>\n",
       "      <th>2300</th>\n",
       "      <th>2301</th>\n",
       "      <th>2302</th>\n",
       "      <th>2303</th>\n",
       "    </tr>\n",
       "  </thead>\n",
       "  <tbody>\n",
       "  </tbody>\n",
       "</table>\n",
       "<p>0 rows × 2304 columns</p>\n",
       "</div>"
      ],
      "text/plain": [
       "Empty DataFrame\n",
       "Columns: [0, 1, 2, 3, 4, 5, 6, 7, 8, 9, 10, 11, 12, 13, 14, 15, 16, 17, 18, 19, 20, 21, 22, 23, 24, 25, 26, 27, 28, 29, 30, 31, 32, 33, 34, 35, 36, 37, 38, 39, 40, 41, 42, 43, 44, 45, 46, 47, 48, 49, 50, 51, 52, 53, 54, 55, 56, 57, 58, 59, 60, 61, 62, 63, 64, 65, 66, 67, 68, 69, 70, 71, 72, 73, 74, 75, 76, 77, 78, 79, 80, 81, 82, 83, 84, 85, 86, 87, 88, 89, 90, 91, 92, 93, 94, 95, 96, 97, 98, 99, ...]\n",
       "Index: []\n",
       "\n",
       "[0 rows x 2304 columns]"
      ]
     },
     "execution_count": 51,
     "metadata": {},
     "output_type": "execute_result"
    }
   ],
   "source": [
    "#Check if any rows contain missing data\n",
    "missing_data = data[data.isnull().any(axis=1)].head()\n",
    "\n",
    "# Print the rows which contain the empty data\n",
    "missing_data   "
   ]
  },
  {
   "cell_type": "code",
   "execution_count": 52,
   "id": "839e1c2d",
   "metadata": {
    "scrolled": false
   },
   "outputs": [
    {
     "data": {
      "image/png": "[encoded data removed]",
      "text/plain": [
       "<Figure size 640x480 with 1 Axes>"
      ]
     },
     "metadata": {},
     "output_type": "display_data"
    }
   ],
   "source": [
    "# Extract the eleventh row as an array\n",
    "instance_to_plot = data.iloc[10].to_numpy()\n",
    "\n",
    "# Reshape the array as 48x48 array\n",
    "image_data = instance_to_plot.reshape(48, 48)\n",
    "\n",
    "# Plot the image\n",
    "plt.imshow(image_data)\n",
    "plt.show()"
   ]
  },
  {
   "cell_type": "code",
   "execution_count": 53,
   "id": "5b28d4d6",
   "metadata": {},
   "outputs": [],
   "source": [
    "# Normalize the data for scaling to a Common Range\n",
    "data = data.astype('float') / 255"
   ]
  },
  {
   "cell_type": "code",
   "execution_count": 54,
   "id": "45d8bb58",
   "metadata": {},
   "outputs": [
    {
     "data": {
      "text/plain": [
       "(9690, 900)"
      ]
     },
     "execution_count": 54,
     "metadata": {},
     "output_type": "execute_result"
    }
   ],
   "source": [
    "# Create a new dataset with feature reduction applied\n",
    "data_sm = np.apply_along_axis(\n",
    "    func1d=lambda item: cv2.resize(item.reshape(48, 48), dsize=(30, 30)),\n",
    "    axis=1, arr=data).reshape(-1, 30*30)\n",
    "\n",
    "# Print the dimensions of the new data\n",
    "data_sm.shape"
   ]
  },
  {
   "cell_type": "code",
   "execution_count": 55,
   "id": "c03bd37f",
   "metadata": {},
   "outputs": [
    {
     "data": {
      "text/plain": [
       "array([[0.30788235, 0.30078431, 0.33313725, ..., 0.38215686, 0.38901961,\n",
       "        0.37403922],\n",
       "       [0.28662745, 0.30705882, 0.30431373, ..., 0.30764706, 0.3894902 ,\n",
       "        0.39890196],\n",
       "       [0.28352941, 0.30588235, 0.31568627, ..., 0.28431373, 0.31713725,\n",
       "        0.36431373],\n",
       "       ...,\n",
       "       [1.        , 1.        , 1.        , ..., 0.13764706, 0.12647059,\n",
       "        0.17027451],\n",
       "       [0.99835294, 0.99945098, 1.        , ..., 0.10843137, 0.10184314,\n",
       "        0.09776471],\n",
       "       [0.93905882, 0.92717647, 1.        , ..., 0.09960784, 0.10031373,\n",
       "        0.0754902 ]])"
      ]
     },
     "execution_count": 55,
     "metadata": {},
     "output_type": "execute_result"
    }
   ],
   "source": [
    "data_sm"
   ]
  },
  {
   "cell_type": "code",
   "execution_count": 56,
   "id": "0b15360f",
   "metadata": {},
   "outputs": [
    {
     "data": {
      "image/png": "[encoded data removed]",
      "text/plain": [
       "<Figure size 640x480 with 1 Axes>"
      ]
     },
     "metadata": {},
     "output_type": "display_data"
    }
   ],
   "source": [
    "# Plotting the same image with reduced features\n",
    "image_data = data_sm[10].reshape(30, 30)\n",
    "plt.imshow(image_data)\n",
    "plt.show()"
   ]
  },
  {
   "cell_type": "code",
   "execution_count": 57,
   "id": "57a48599",
   "metadata": {},
   "outputs": [
    {
     "data": {
      "text/html": [
       "<div>\n",
       "<style scoped>\n",
       "    .dataframe tbody tr th:only-of-type {\n",
       "        vertical-align: middle;\n",
       "    }\n",
       "\n",
       "    .dataframe tbody tr th {\n",
       "        vertical-align: top;\n",
       "    }\n",
       "\n",
       "    .dataframe thead th {\n",
       "        text-align: right;\n",
       "    }\n",
       "</style>\n",
       "<table border=\"1\" class=\"dataframe\">\n",
       "  <thead>\n",
       "    <tr style=\"text-align: right;\">\n",
       "      <th></th>\n",
       "      <th>0</th>\n",
       "      <th>1</th>\n",
       "      <th>2</th>\n",
       "      <th>3</th>\n",
       "      <th>4</th>\n",
       "      <th>5</th>\n",
       "      <th>6</th>\n",
       "      <th>7</th>\n",
       "      <th>8</th>\n",
       "      <th>9</th>\n",
       "      <th>...</th>\n",
       "      <th>890</th>\n",
       "      <th>891</th>\n",
       "      <th>892</th>\n",
       "      <th>893</th>\n",
       "      <th>894</th>\n",
       "      <th>895</th>\n",
       "      <th>896</th>\n",
       "      <th>897</th>\n",
       "      <th>898</th>\n",
       "      <th>899</th>\n",
       "    </tr>\n",
       "  </thead>\n",
       "  <tbody>\n",
       "    <tr>\n",
       "      <th>0</th>\n",
       "      <td>0.307882</td>\n",
       "      <td>0.300784</td>\n",
       "      <td>0.333137</td>\n",
       "      <td>0.370549</td>\n",
       "      <td>0.457255</td>\n",
       "      <td>0.456000</td>\n",
       "      <td>0.479176</td>\n",
       "      <td>0.548627</td>\n",
       "      <td>0.798902</td>\n",
       "      <td>0.959373</td>\n",
       "      <td>...</td>\n",
       "      <td>0.552275</td>\n",
       "      <td>0.419216</td>\n",
       "      <td>0.378431</td>\n",
       "      <td>0.362235</td>\n",
       "      <td>0.316157</td>\n",
       "      <td>0.288118</td>\n",
       "      <td>0.326275</td>\n",
       "      <td>0.382157</td>\n",
       "      <td>0.389020</td>\n",
       "      <td>0.374039</td>\n",
       "    </tr>\n",
       "    <tr>\n",
       "      <th>1</th>\n",
       "      <td>0.286627</td>\n",
       "      <td>0.307059</td>\n",
       "      <td>0.304314</td>\n",
       "      <td>0.303255</td>\n",
       "      <td>0.402314</td>\n",
       "      <td>0.501333</td>\n",
       "      <td>0.397020</td>\n",
       "      <td>0.384510</td>\n",
       "      <td>0.680275</td>\n",
       "      <td>0.945490</td>\n",
       "      <td>...</td>\n",
       "      <td>0.535922</td>\n",
       "      <td>0.561529</td>\n",
       "      <td>0.488824</td>\n",
       "      <td>0.388000</td>\n",
       "      <td>0.366235</td>\n",
       "      <td>0.321569</td>\n",
       "      <td>0.274549</td>\n",
       "      <td>0.307647</td>\n",
       "      <td>0.389490</td>\n",
       "      <td>0.398902</td>\n",
       "    </tr>\n",
       "    <tr>\n",
       "      <th>2</th>\n",
       "      <td>0.283529</td>\n",
       "      <td>0.305882</td>\n",
       "      <td>0.315686</td>\n",
       "      <td>0.368353</td>\n",
       "      <td>0.421333</td>\n",
       "      <td>0.342078</td>\n",
       "      <td>0.433294</td>\n",
       "      <td>0.755294</td>\n",
       "      <td>0.948392</td>\n",
       "      <td>0.979490</td>\n",
       "      <td>...</td>\n",
       "      <td>0.440157</td>\n",
       "      <td>0.550510</td>\n",
       "      <td>0.550588</td>\n",
       "      <td>0.401843</td>\n",
       "      <td>0.374078</td>\n",
       "      <td>0.333686</td>\n",
       "      <td>0.286784</td>\n",
       "      <td>0.284314</td>\n",
       "      <td>0.317137</td>\n",
       "      <td>0.364314</td>\n",
       "    </tr>\n",
       "    <tr>\n",
       "      <th>3</th>\n",
       "      <td>0.264745</td>\n",
       "      <td>0.287333</td>\n",
       "      <td>0.344510</td>\n",
       "      <td>0.427608</td>\n",
       "      <td>0.387059</td>\n",
       "      <td>0.314941</td>\n",
       "      <td>0.575451</td>\n",
       "      <td>0.886667</td>\n",
       "      <td>0.979216</td>\n",
       "      <td>0.981098</td>\n",
       "      <td>...</td>\n",
       "      <td>0.360392</td>\n",
       "      <td>0.429922</td>\n",
       "      <td>0.560196</td>\n",
       "      <td>0.505569</td>\n",
       "      <td>0.384078</td>\n",
       "      <td>0.337294</td>\n",
       "      <td>0.301922</td>\n",
       "      <td>0.276667</td>\n",
       "      <td>0.285765</td>\n",
       "      <td>0.335686</td>\n",
       "    </tr>\n",
       "    <tr>\n",
       "      <th>4</th>\n",
       "      <td>0.287020</td>\n",
       "      <td>0.286431</td>\n",
       "      <td>0.297451</td>\n",
       "      <td>0.362078</td>\n",
       "      <td>0.419686</td>\n",
       "      <td>0.327294</td>\n",
       "      <td>0.379020</td>\n",
       "      <td>0.665686</td>\n",
       "      <td>0.916824</td>\n",
       "      <td>0.967373</td>\n",
       "      <td>...</td>\n",
       "      <td>0.358627</td>\n",
       "      <td>0.418824</td>\n",
       "      <td>0.428824</td>\n",
       "      <td>0.395922</td>\n",
       "      <td>0.383608</td>\n",
       "      <td>0.387529</td>\n",
       "      <td>0.384039</td>\n",
       "      <td>0.322745</td>\n",
       "      <td>0.260902</td>\n",
       "      <td>0.280000</td>\n",
       "    </tr>\n",
       "  </tbody>\n",
       "</table>\n",
       "<p>5 rows × 900 columns</p>\n",
       "</div>"
      ],
      "text/plain": [
       "        0         1         2         3         4         5         6    \\\n",
       "0  0.307882  0.300784  0.333137  0.370549  0.457255  0.456000  0.479176   \n",
       "1  0.286627  0.307059  0.304314  0.303255  0.402314  0.501333  0.397020   \n",
       "2  0.283529  0.305882  0.315686  0.368353  0.421333  0.342078  0.433294   \n",
       "3  0.264745  0.287333  0.344510  0.427608  0.387059  0.314941  0.575451   \n",
       "4  0.287020  0.286431  0.297451  0.362078  0.419686  0.327294  0.379020   \n",
       "\n",
       "        7         8         9    ...       890       891       892       893  \\\n",
       "0  0.548627  0.798902  0.959373  ...  0.552275  0.419216  0.378431  0.362235   \n",
       "1  0.384510  0.680275  0.945490  ...  0.535922  0.561529  0.488824  0.388000   \n",
       "2  0.755294  0.948392  0.979490  ...  0.440157  0.550510  0.550588  0.401843   \n",
       "3  0.886667  0.979216  0.981098  ...  0.360392  0.429922  0.560196  0.505569   \n",
       "4  0.665686  0.916824  0.967373  ...  0.358627  0.418824  0.428824  0.395922   \n",
       "\n",
       "        894       895       896       897       898       899  \n",
       "0  0.316157  0.288118  0.326275  0.382157  0.389020  0.374039  \n",
       "1  0.366235  0.321569  0.274549  0.307647  0.389490  0.398902  \n",
       "2  0.374078  0.333686  0.286784  0.284314  0.317137  0.364314  \n",
       "3  0.384078  0.337294  0.301922  0.276667  0.285765  0.335686  \n",
       "4  0.383608  0.387529  0.384039  0.322745  0.260902  0.280000  \n",
       "\n",
       "[5 rows x 900 columns]"
      ]
     },
     "execution_count": 57,
     "metadata": {},
     "output_type": "execute_result"
    }
   ],
   "source": [
    "# Convert the data_sm array to dataframe\n",
    "data_sm = pd.DataFrame(data_sm)\n",
    "data_sm.head()"
   ]
  },
  {
   "cell_type": "code",
   "execution_count": 91,
   "id": "0c5ee39b",
   "metadata": {},
   "outputs": [
    {
     "data": {
      "text/plain": [
       "(9690, 900)"
      ]
     },
     "execution_count": 91,
     "metadata": {},
     "output_type": "execute_result"
    }
   ],
   "source": [
    "data_sm.shape"
   ]
  },
  {
   "cell_type": "code",
   "execution_count": 58,
   "id": "a4c528c2",
   "metadata": {},
   "outputs": [],
   "source": [
    "# Importing all the oneVsAll files\n",
    "class_0_data = pd.read_csv(\"y_train_0.csv\")\n",
    "class_1_data = pd.read_csv(\"y_train_1.csv\")\n",
    "class_2_data = pd.read_csv(\"y_train_2.csv\")\n",
    "class_3_data = pd.read_csv(\"y_train_3.csv\")\n",
    "class_4_data = pd.read_csv(\"y_train_4.csv\")\n",
    "class_5_data = pd.read_csv(\"y_train_5.csv\")\n",
    "class_6_data = pd.read_csv(\"y_train_6.csv\")\n",
    "class_7_data = pd.read_csv(\"y_train_7.csv\")\n",
    "class_8_data = pd.read_csv(\"y_train_8.csv\")\n",
    "class_9_data = pd.read_csv(\"y_train_9.csv\")"
   ]
  },
  {
   "cell_type": "code",
   "execution_count": 59,
   "id": "190de547",
   "metadata": {},
   "outputs": [],
   "source": [
    "# Joining the oneVsAll data with the training data\n",
    "data_0 = class_0_data.join(data_sm)\n",
    "data_1 = class_1_data.join(data_sm)\n",
    "data_2 = class_2_data.join(data_sm)\n",
    "data_3 = class_3_data.join(data_sm)\n",
    "data_4 = class_4_data.join(data_sm)\n",
    "data_5 = class_5_data.join(data_sm)\n",
    "data_6 = class_6_data.join(data_sm)\n",
    "data_7 = class_7_data.join(data_sm)\n",
    "data_8 = class_8_data.join(data_sm)\n",
    "data_9 = class_9_data.join(data_sm)"
   ]
  },
  {
   "cell_type": "code",
   "execution_count": 60,
   "id": "92883483",
   "metadata": {},
   "outputs": [
    {
     "data": {
      "text/plain": [
       "Class Label    1.000000\n",
       "522            0.279336\n",
       "523            0.274288\n",
       "404            0.272423\n",
       "493            0.271942\n",
       "492            0.265742\n",
       "403            0.254642\n",
       "373            0.235499\n",
       "317            0.231402\n",
       "439            0.226907\n",
       "470            0.226484\n",
       "316            0.225876\n",
       "521            0.225672\n",
       "500            0.225226\n",
       "616            0.223078\n",
       "617            0.222153\n",
       "586            0.221382\n",
       "469            0.220461\n",
       "409            0.214685\n",
       "520            0.214646\n",
       "Name: Class Label, dtype: float64"
      ]
     },
     "execution_count": 60,
     "metadata": {},
     "output_type": "execute_result"
    }
   ],
   "source": [
    "# Create the correlation matrix\n",
    "corr_matrix = data_2.corr()\n",
    "corr_data = corr_matrix[\"Class Label\"].sort_values(ascending=False)\n",
    "\n",
    "# Print out the top 20 features\n",
    "corr_data[0:20]"
   ]
  },
  {
   "cell_type": "code",
   "execution_count": 61,
   "id": "ce28449d",
   "metadata": {},
   "outputs": [],
   "source": [
    "# Listing the neeeded features to extract\n",
    "cols = [\n",
    "  '873', '874', '872', '843', '875', '787', '844', '786',\n",
    "  '815', '842', '845', '785', '816', '814', '817', '818',\n",
    "  '846', '788', '756', '876', '430', '401', '460', '459',\n",
    "  '431', '400', '429', '489', '490', '488', '518', '253',\n",
    "  '254', '255', '458', '224', '282', '252', '519', '256',\n",
    "  '522', '523', '404', '493', '492', '403', '373', '317',\n",
    "  '439', '470', '316', '521', '500', '616', '617', '586',\n",
    "  '469', '409', '520', '552', '209', '208', '269', '238',\n",
    "  '239', '179', '267', '207', '237', '268', '178', '236',\n",
    "  '266', '118', '177', '299', '298', '149', '88',  '206',\n",
    "  '583', '554', '524', '461', '525', '584', '432', '462',\n",
    "  '494', '582', '495', '553', '555', '347', '348', '318',\n",
    "  '501', '669', '681', '581'\n",
    "]\n",
    "\n",
    "# Creating a new subset and saving into a CSV file\n",
    "data_to_save = data[cols]\n",
    "data_to_save.to_csv(\"subset_2.csv\")"
   ]
  },
  {
   "cell_type": "code",
   "execution_count": 62,
   "id": "3abff41e",
   "metadata": {},
   "outputs": [],
   "source": [
    "# Read the target training data CSV file\n",
    "data_train = pd.read_csv(\"y_train_all.csv\")"
   ]
  },
  {
   "cell_type": "code",
   "execution_count": 63,
   "id": "8731b4f2",
   "metadata": {},
   "outputs": [
    {
     "data": {
      "text/html": [
       "<div>\n",
       "<style scoped>\n",
       "    .dataframe tbody tr th:only-of-type {\n",
       "        vertical-align: middle;\n",
       "    }\n",
       "\n",
       "    .dataframe tbody tr th {\n",
       "        vertical-align: top;\n",
       "    }\n",
       "\n",
       "    .dataframe thead th {\n",
       "        text-align: right;\n",
       "    }\n",
       "</style>\n",
       "<table border=\"1\" class=\"dataframe\">\n",
       "  <thead>\n",
       "    <tr style=\"text-align: right;\">\n",
       "      <th></th>\n",
       "      <th>0</th>\n",
       "    </tr>\n",
       "  </thead>\n",
       "  <tbody>\n",
       "    <tr>\n",
       "      <th>9685</th>\n",
       "      <td>9</td>\n",
       "    </tr>\n",
       "    <tr>\n",
       "      <th>9686</th>\n",
       "      <td>9</td>\n",
       "    </tr>\n",
       "    <tr>\n",
       "      <th>9687</th>\n",
       "      <td>9</td>\n",
       "    </tr>\n",
       "    <tr>\n",
       "      <th>9688</th>\n",
       "      <td>9</td>\n",
       "    </tr>\n",
       "    <tr>\n",
       "      <th>9689</th>\n",
       "      <td>9</td>\n",
       "    </tr>\n",
       "  </tbody>\n",
       "</table>\n",
       "</div>"
      ],
      "text/plain": [
       "      0\n",
       "9685  9\n",
       "9686  9\n",
       "9687  9\n",
       "9688  9\n",
       "9689  9"
      ]
     },
     "execution_count": 63,
     "metadata": {},
     "output_type": "execute_result"
    }
   ],
   "source": [
    "data_train.tail()"
   ]
  },
  {
   "cell_type": "code",
   "execution_count": 64,
   "id": "4986b0f1",
   "metadata": {},
   "outputs": [],
   "source": [
    "# Splitting the data into Train and Test from traning dataset\n",
    "X_train, X_test, y_train, y_test = train_test_split(data_sm, data_train, test_size = 0.3, random_state = 1)"
   ]
  },
  {
   "cell_type": "code",
   "execution_count": 65,
   "id": "4aea5e1a",
   "metadata": {},
   "outputs": [
    {
     "name": "stdout",
     "output_type": "stream",
     "text": [
      "              precision    recall  f1-score   support\n",
      "\n",
      "           0       0.14      0.42      0.21        55\n",
      "           1       0.38      0.23      0.28       669\n",
      "           2       0.35      0.32      0.33       669\n",
      "           3       0.31      0.39      0.34       418\n",
      "           4       0.41      0.58      0.48       613\n",
      "           5       0.22      0.53      0.31        59\n",
      "           6       0.06      0.03      0.04       111\n",
      "           7       0.39      0.23      0.29        80\n",
      "           8       0.83      0.20      0.32       150\n",
      "           9       0.32      0.20      0.25        83\n",
      "\n",
      "    accuracy                           0.35      2907\n",
      "   macro avg       0.34      0.31      0.29      2907\n",
      "weighted avg       0.37      0.35      0.34      2907\n",
      "\n",
      "accuracy is 0.3464052287581699\n"
     ]
    }
   ],
   "source": [
    "# Multinominal Naive Bayes on whole dataset\n",
    "from sklearn.naive_bayes import MultinomialNB\n",
    "Model2 = MultinomialNB(force_alpha=True)\n",
    "Model2.fit(X_train, y_train)\n",
    "\n",
    "y_pred1 = Model2.predict(X_test)\n",
    "\n",
    "# Summary of the predictions made by the classifier\n",
    "print(classification_report(y_test, y_pred1))\n",
    "# Accuracy score\n",
    "print('accuracy is',accuracy_score(y_pred1,y_test))"
   ]
  },
  {
   "cell_type": "code",
   "execution_count": 66,
   "id": "1b183b1b",
   "metadata": {},
   "outputs": [
    {
     "data": {
      "text/plain": [
       "array([[ 23,   8,  14,   6,   4,   0,   0,   0,   0,   0],\n",
       "       [ 94, 152, 150,  94, 155,   0,  11,   0,   0,  13],\n",
       "       [ 30,  83, 212,  89, 239,   3,   5,   2,   0,   6],\n",
       "       [  9,  56,  92, 163,  95,   0,   3,   0,   0,   0],\n",
       "       [ 10,  62,  72, 106, 358,   0,   1,   0,   0,   4],\n",
       "       [  0,   2,  14,   1,   2,  31,   1,   3,   4,   1],\n",
       "       [  0,  16,  31,  29,   7,  21,   3,   3,   0,   1],\n",
       "       [  0,   3,   6,  15,   3,  26,   5,  18,   2,   2],\n",
       "       [  0,  12,  14,  10,   4,  40,  17,  14,  30,   9],\n",
       "       [  1,   5,   8,  21,   5,  19,   1,   6,   0,  17]], dtype=int64)"
      ]
     },
     "execution_count": 66,
     "metadata": {},
     "output_type": "execute_result"
    }
   ],
   "source": [
    "cm1 = confusion_matrix(y_test, y_pred1)\n",
    "cm1"
   ]
  },
  {
   "cell_type": "code",
   "execution_count": 67,
   "id": "c134ddc3",
   "metadata": {},
   "outputs": [
    {
     "data": {
      "text/plain": [
       "Text(95.72222222222221, 0.5, 'Predicted')"
      ]
     },
     "execution_count": 67,
     "metadata": {},
     "output_type": "execute_result"
    },
    {
     "data": {
      "image/png": "[encoded data removed]",
      "text/plain": [
       "<Figure size 1000x700 with 2 Axes>"
      ]
     },
     "metadata": {},
     "output_type": "display_data"
    }
   ],
   "source": [
    "plt.figure(figsize=(10,7))\n",
    "sns.heatmap(cm1, annot=True)\n",
    "plt.xlabel('Truth')\n",
    "plt.ylabel('Predicted')"
   ]
  },
  {
   "cell_type": "code",
   "execution_count": 68,
   "id": "ed7e8262",
   "metadata": {},
   "outputs": [],
   "source": [
    "n_classes = 10  # Number of classes\n",
    "y_true = label_binarize(y_test, classes=[0, 1, 2, 3, 4, 5, 6, 7, 8, 9])  # One-hot encoding of true labels\n",
    "y_scores = np.random.rand(len(y_pred1), n_classes)  # predicted probabilities"
   ]
  },
  {
   "cell_type": "code",
   "execution_count": 69,
   "id": "c44b9981",
   "metadata": {},
   "outputs": [],
   "source": [
    "fpr = dict()\n",
    "tpr = dict()\n",
    "roc_auc = dict()\n",
    "\n",
    "for i in range(n_classes):\n",
    "    fpr[i], tpr[i], _ = roc_curve(y_true[:, i], y_scores[:, i])\n",
    "    roc_auc[i] = auc(fpr[i], tpr[i])"
   ]
  },
  {
   "cell_type": "code",
   "execution_count": 70,
   "id": "7ea26c51",
   "metadata": {},
   "outputs": [],
   "source": [
    "fpr[\"micro\"], tpr[\"micro\"], _ = roc_curve(y_true.ravel(), y_scores.ravel())\n",
    "roc_auc[\"micro\"] = auc(fpr[\"micro\"], tpr[\"micro\"])"
   ]
  },
  {
   "cell_type": "code",
   "execution_count": 71,
   "id": "9358d006",
   "metadata": {},
   "outputs": [
    {
     "data": {
      "image/png": "[encoded data removed]",
      "text/plain": [
       "<Figure size 800x600 with 1 Axes>"
      ]
     },
     "metadata": {},
     "output_type": "display_data"
    }
   ],
   "source": [
    "plt.figure(figsize=(8, 6))\n",
    "colors = ['aqua', 'darkorange', 'cornflowerblue', 'red', 'green', 'purple', 'magenta', 'lime', 'blue', 'cyan']\n",
    "\n",
    "for i, color in zip(range(n_classes), colors):\n",
    "    plt.plot(fpr[i], tpr[i], color=color, lw=2, label=f'ROC curve (AUC = {roc_auc[i]:.2f}) for Class {i}')\n",
    "\n",
    "plt.plot(fpr[\"micro\"], tpr[\"micro\"], color='deeppink', linestyle=':', linewidth=4, label='Micro-average ROC curve (AUC = {0:0.2f})'.format(roc_auc[\"micro\"]))\n",
    "\n",
    "plt.plot([0, 1], [0, 1], 'k--', lw=2)\n",
    "plt.xlim([0.0, 1.0])\n",
    "plt.ylim([0.0, 1.05])\n",
    "plt.xlabel('False Positive Rate')\n",
    "plt.ylabel('True Positive Rate')\n",
    "plt.title('ROC Curve for Naive Bayes')\n",
    "plt.legend(loc='lower right')\n",
    "plt.show()"
   ]
  },
  {
   "cell_type": "code",
   "execution_count": 72,
   "id": "4dad3057",
   "metadata": {},
   "outputs": [],
   "source": [
    "data1 = pd.read_csv(\"subset_1.csv\")\n",
    "data2 = pd.read_csv(\"subset_2.csv\")\n",
    "data3 = pd.read_csv(\"subset_3.csv\")"
   ]
  },
  {
   "cell_type": "code",
   "execution_count": 73,
   "id": "a846f02b",
   "metadata": {},
   "outputs": [
    {
     "data": {
      "text/plain": [
       "(9690, 101)"
      ]
     },
     "execution_count": 73,
     "metadata": {},
     "output_type": "execute_result"
    }
   ],
   "source": [
    "data2.shape"
   ]
  },
  {
   "cell_type": "code",
   "execution_count": 74,
   "id": "d40bf639",
   "metadata": {},
   "outputs": [],
   "source": [
    "# Splitting the data into Train and Test\n",
    "X_train, X_test, y_train, y_test = train_test_split(data1, data_train, test_size = 0.3, random_state = 0)"
   ]
  },
  {
   "cell_type": "code",
   "execution_count": 75,
   "id": "68c12606",
   "metadata": {},
   "outputs": [
    {
     "name": "stdout",
     "output_type": "stream",
     "text": [
      "              precision    recall  f1-score   support\n",
      "\n",
      "           0       0.20      0.60      0.30        65\n",
      "           1       0.67      0.27      0.39       650\n",
      "           2       0.63      0.36      0.46       676\n",
      "           3       0.31      0.75      0.44       426\n",
      "           4       0.54      0.24      0.33       587\n",
      "           5       0.78      0.49      0.60        74\n",
      "           6       0.20      0.40      0.27       114\n",
      "           7       0.32      0.44      0.37        71\n",
      "           8       0.38      0.40      0.39       176\n",
      "           9       0.22      0.65      0.33        68\n",
      "\n",
      "    accuracy                           0.40      2907\n",
      "   macro avg       0.43      0.46      0.39      2907\n",
      "weighted avg       0.52      0.40      0.40      2907\n",
      "\n",
      "accuracy is 0.3955968352253182\n"
     ]
    }
   ],
   "source": [
    "# Naive Bayes 1\n",
    "from sklearn.naive_bayes import GaussianNB\n",
    "Model = GaussianNB()\n",
    "Model.fit(X_train, y_train)\n",
    "\n",
    "y_pred2 = Model.predict(X_test)\n",
    "\n",
    "# Summary of the predictions made by the classifier\n",
    "print(classification_report(y_test, y_pred2))\n",
    "# Accuracy score\n",
    "print('accuracy is',accuracy_score(y_pred2,y_test))"
   ]
  },
  {
   "cell_type": "code",
   "execution_count": 76,
   "id": "d3774234",
   "metadata": {},
   "outputs": [
    {
     "data": {
      "text/plain": [
       "array([[ 39,   9,   2,   5,   5,   0,   0,   0,   3,   2],\n",
       "       [118, 178,  58, 169,  50,   1,  21,   0,  35,  20],\n",
       "       [ 14,  29, 245, 189,  44,   2,  51,   7,  45,  50],\n",
       "       [  7,   1,  17, 321,   9,   0,  36,   1,  10,  24],\n",
       "       [ 14,  45,  61, 285, 140,   0,  10,   2,  12,  18],\n",
       "       [  0,   0,   1,  11,   7,  36,   6,   5,   6,   2],\n",
       "       [  0,   2,   0,  43,   3,   0,  46,  10,   2,   8],\n",
       "       [  0,   0,   2,   1,   0,   0,  27,  31,   0,  10],\n",
       "       [  2,   0,   2,  23,   0,   7,  18,  33,  70,  21],\n",
       "       [  0,   0,   0,   2,   1,   0,  12,   7,   2,  44]], dtype=int64)"
      ]
     },
     "execution_count": 76,
     "metadata": {},
     "output_type": "execute_result"
    }
   ],
   "source": [
    "cm2 = confusion_matrix(y_test, y_pred2)\n",
    "cm2"
   ]
  },
  {
   "cell_type": "code",
   "execution_count": 77,
   "id": "352e542f",
   "metadata": {},
   "outputs": [],
   "source": [
    "# Splitting the data into Train and Test\n",
    "X_train, X_test, y_train, y_test = train_test_split(data2, data_train, test_size = 0.3, random_state = 1)"
   ]
  },
  {
   "cell_type": "code",
   "execution_count": 78,
   "id": "aa8638dc",
   "metadata": {},
   "outputs": [
    {
     "name": "stdout",
     "output_type": "stream",
     "text": [
      "              precision    recall  f1-score   support\n",
      "\n",
      "           0       0.57      0.78      0.66        55\n",
      "           1       0.71      0.52      0.61       669\n",
      "           2       0.51      0.55      0.53       669\n",
      "           3       0.61      0.32      0.42       418\n",
      "           4       0.48      0.75      0.59       613\n",
      "           5       0.47      0.92      0.62        59\n",
      "           6       0.96      0.42      0.59       111\n",
      "           7       0.54      0.84      0.65        80\n",
      "           8       0.62      0.41      0.50       150\n",
      "           9       0.83      0.48      0.61        83\n",
      "\n",
      "    accuracy                           0.56      2907\n",
      "   macro avg       0.63      0.60      0.58      2907\n",
      "weighted avg       0.60      0.56      0.55      2907\n",
      "\n",
      "accuracy is 0.5600275197798418\n"
     ]
    }
   ],
   "source": [
    "# Naive Bayes 2\n",
    "from sklearn.naive_bayes import GaussianNB\n",
    "Model = GaussianNB()\n",
    "Model.fit(X_train, y_train)\n",
    "\n",
    "y_pred3 = Model.predict(X_test)\n",
    "\n",
    "# Summary of the predictions made by the classifier\n",
    "print(classification_report(y_test, y_pred3))\n",
    "# Accuracy score\n",
    "print('accuracy is',accuracy_score(y_pred3,y_test))"
   ]
  },
  {
   "cell_type": "code",
   "execution_count": 79,
   "id": "a659e1c3",
   "metadata": {},
   "outputs": [
    {
     "data": {
      "text/plain": [
       "array([[ 43,   8,   4,   0,   0,   0,   0,   0,   0,   0],\n",
       "       [ 32, 351, 286,   0,   0,   0,   0,   0,   0,   0],\n",
       "       [  0, 108, 370,  45, 146,   0,   0,   0,   0,   0],\n",
       "       [  0,   6,   8, 134, 270,   0,   0,   0,   0,   0],\n",
       "       [  0,  18,  61,  40, 460,  34,   0,   0,   0,   0],\n",
       "       [  0,   0,   0,   0,   0,  54,   2,   0,   3,   0],\n",
       "       [  0,   0,   0,   0,   0,  26,  47,  20,  18,   0],\n",
       "       [  0,   0,   0,   0,   0,   0,   0,  67,  13,   0],\n",
       "       [  0,   0,   0,   0,  42,   0,   0,  38,  62,   8],\n",
       "       [  0,   0,   0,   0,  39,   0,   0,   0,   4,  40]], dtype=int64)"
      ]
     },
     "execution_count": 79,
     "metadata": {},
     "output_type": "execute_result"
    }
   ],
   "source": [
    "cm3 = confusion_matrix(y_test, y_pred3)\n",
    "cm3"
   ]
  },
  {
   "cell_type": "code",
   "execution_count": 80,
   "id": "e9b8f161",
   "metadata": {},
   "outputs": [],
   "source": [
    "# Splitting the data into Train and Test\n",
    "X_train, X_test, y_train, y_test = train_test_split(data3, data_train, test_size = 0.3, random_state = 0)"
   ]
  },
  {
   "cell_type": "code",
   "execution_count": 81,
   "id": "900bc5fd",
   "metadata": {},
   "outputs": [
    {
     "name": "stdout",
     "output_type": "stream",
     "text": [
      "              precision    recall  f1-score   support\n",
      "\n",
      "           0       0.19      0.72      0.31        65\n",
      "           1       0.55      0.28      0.37       650\n",
      "           2       0.59      0.34      0.43       676\n",
      "           3       0.33      0.71      0.45       426\n",
      "           4       0.46      0.22      0.30       587\n",
      "           5       0.82      0.24      0.38        74\n",
      "           6       0.20      0.52      0.29       114\n",
      "           7       0.20      0.45      0.28        71\n",
      "           8       0.54      0.40      0.46       176\n",
      "           9       0.25      0.50      0.33        68\n",
      "\n",
      "    accuracy                           0.38      2907\n",
      "   macro avg       0.41      0.44      0.36      2907\n",
      "weighted avg       0.48      0.38      0.38      2907\n",
      "\n",
      "accuracy is 0.38011695906432746\n"
     ]
    }
   ],
   "source": [
    "# Naive Bayes on dataset3\n",
    "from sklearn.naive_bayes import GaussianNB\n",
    "Model = GaussianNB()\n",
    "Model.fit(X_train, y_train)\n",
    "\n",
    "y_pred4 = Model.predict(X_test)\n",
    "\n",
    "# Summary of the predictions made by the classifier\n",
    "print(classification_report(y_test, y_pred4))\n",
    "# Accuracy score\n",
    "print('accuracy is',accuracy_score(y_pred4,y_test))"
   ]
  },
  {
   "cell_type": "code",
   "execution_count": 82,
   "id": "dc1c07b6",
   "metadata": {},
   "outputs": [
    {
     "data": {
      "text/plain": [
       "array([[ 47,   4,   3,   2,   6,   0,   0,   0,   0,   3],\n",
       "       [134, 181,  93, 122,  48,   0,  41,   0,  21,  10],\n",
       "       [ 19,  71, 229, 173,  81,   1,  39,  14,  11,  38],\n",
       "       [ 13,   2,  14, 303,  18,   0,  47,   2,  15,  12],\n",
       "       [ 28,  67,  42, 265, 132,   0,  24,  11,   3,  15],\n",
       "       [  0,   0,   0,  11,   0,  18,   9,  30,   6,   0],\n",
       "       [  0,   3,   0,  27,   0,   0,  59,  13,   2,  10],\n",
       "       [  0,   0,   3,   3,   0,   0,  31,  32,   0,   2],\n",
       "       [  1,   1,   2,   8,   0,   3,  35,  44,  70,  12],\n",
       "       [  0,   0,   0,   3,   0,   0,  14,  15,   2,  34]], dtype=int64)"
      ]
     },
     "execution_count": 82,
     "metadata": {},
     "output_type": "execute_result"
    }
   ],
   "source": [
    "cm4 = confusion_matrix(y_test, y_pred4)\n",
    "cm4"
   ]
  }
 ],
 "metadata": {
  "kernelspec": {
   "display_name": "Python 3 (ipykernel)",
   "language": "python",
   "name": "python3"
  },
  "language_info": {
   "codemirror_mode": {
    "name": "ipython",
    "version": 3
   },
   "file_extension": ".py",
   "mimetype": "text/x-python",
   "name": "python",
   "nbconvert_exporter": "python",
   "pygments_lexer": "ipython3",
   "version": "3.11.5"
  }
 },
 "nbformat": 4,
 "nbformat_minor": 5
}
